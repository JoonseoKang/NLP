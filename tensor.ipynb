{
  "nbformat": 4,
  "nbformat_minor": 0,
  "metadata": {
    "colab": {
      "name": "tensor.ipynb",
      "version": "0.3.2",
      "provenance": [],
      "include_colab_link": true
    },
    "kernelspec": {
      "name": "python3",
      "display_name": "Python 3"
    },
    "accelerator": "GPU"
  },
  "cells": [
    {
      "cell_type": "markdown",
      "metadata": {
        "id": "view-in-github",
        "colab_type": "text"
      },
      "source": [
        "<a href=\"https://colab.research.google.com/github/Kangjunseo/NLP/blob/master/tensor.ipynb\" target=\"_parent\"><img src=\"https://colab.research.google.com/assets/colab-badge.svg\" alt=\"Open In Colab\"/></a>"
      ]
    },
    {
      "cell_type": "code",
      "metadata": {
        "id": "hA2JBQvCGaTh",
        "colab_type": "code",
        "colab": {}
      },
      "source": [
        "import numpy as np"
      ],
      "execution_count": 0,
      "outputs": []
    },
    {
      "cell_type": "markdown",
      "metadata": {
        "id": "wWSfYkoOGhr0",
        "colab_type": "text"
      },
      "source": [
        "###0차원 텐서"
      ]
    },
    {
      "cell_type": "code",
      "metadata": {
        "id": "pQxtLRwNGSKN",
        "colab_type": "code",
        "colab": {
          "base_uri": "https://localhost:8080/",
          "height": 52
        },
        "outputId": "8163b1c2-3af9-497d-e76b-46c245990db6"
      },
      "source": [
        "d=np.array(5)\n",
        "print(d.ndim) # 차원수 출력\n",
        "print(d.shape) # 텐서의 크기 출력 "
      ],
      "execution_count": 3,
      "outputs": [
        {
          "output_type": "stream",
          "text": [
            "0\n",
            "()\n"
          ],
          "name": "stdout"
        }
      ]
    },
    {
      "cell_type": "markdown",
      "metadata": {
        "id": "srC06mZeGmVs",
        "colab_type": "text"
      },
      "source": [
        "###1차원 텐서"
      ]
    },
    {
      "cell_type": "code",
      "metadata": {
        "id": "pnuHmlfeGdiU",
        "colab_type": "code",
        "colab": {
          "base_uri": "https://localhost:8080/",
          "height": 52
        },
        "outputId": "5a539ebb-8b6f-4cc5-9e92-176bd8ea3ad7"
      },
      "source": [
        "d=np.array([1, 2, 3, 4])\n",
        "print(d.ndim)\n",
        "print(d.shape)"
      ],
      "execution_count": 4,
      "outputs": [
        {
          "output_type": "stream",
          "text": [
            "1\n",
            "(4,)\n"
          ],
          "name": "stdout"
        }
      ]
    },
    {
      "cell_type": "markdown",
      "metadata": {
        "id": "uoFAZWhkGtMm",
        "colab_type": "text"
      },
      "source": [
        "###2차원 텐서"
      ]
    },
    {
      "cell_type": "code",
      "metadata": {
        "id": "5CQgLfxGGuzq",
        "colab_type": "code",
        "colab": {
          "base_uri": "https://localhost:8080/",
          "height": 52
        },
        "outputId": "746c550c-f39a-42fb-da12-15d405c6af59"
      },
      "source": [
        "d=np.array([[1, 2, 3, 4], [5, 6, 7, 8], [9, 10, 11, 12]])\n",
        "print(d.ndim)\n",
        "print(d.shape)"
      ],
      "execution_count": 5,
      "outputs": [
        {
          "output_type": "stream",
          "text": [
            "2\n",
            "(3, 4)\n"
          ],
          "name": "stdout"
        }
      ]
    },
    {
      "cell_type": "markdown",
      "metadata": {
        "id": "99y6MxvJG0vI",
        "colab_type": "text"
      },
      "source": [
        "###3차원 텐서"
      ]
    },
    {
      "cell_type": "code",
      "metadata": {
        "id": "GzGAMZ_DGxeI",
        "colab_type": "code",
        "colab": {
          "base_uri": "https://localhost:8080/",
          "height": 52
        },
        "outputId": "43bea637-6704-4ffc-a4f9-206bf0121c63"
      },
      "source": [
        "d=np.array([\n",
        "            [[1, 2, 3, 4, 5], [6, 7, 8, 9, 10], [10, 11, 12, 13, 14]],\n",
        "            [[15, 16, 17, 18, 19], [19, 20, 21, 22, 23], [23, 24, 25, 26, 27]]\n",
        "            ])\n",
        "print(d.ndim)\n",
        "print(d.shape)"
      ],
      "execution_count": 6,
      "outputs": [
        {
          "output_type": "stream",
          "text": [
            "3\n",
            "(2, 3, 5)\n"
          ],
          "name": "stdout"
        }
      ]
    },
    {
      "cell_type": "markdown",
      "metadata": {
        "id": "FgWKaBc9HDmH",
        "colab_type": "text"
      },
      "source": [
        "3D 텐서는 (samples, timesteps, word_dim)  \n",
        "samples: 데이터의 개수  \n",
        "timesteps: 시퀀스의 길이  \n",
        "word_dim: 단어를 표현하는 벡터의 차원을 의미  "
      ]
    }
  ]
}
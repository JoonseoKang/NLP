{
  "nbformat": 4,
  "nbformat_minor": 0,
  "metadata": {
    "colab": {
      "name": "Keras맛보기.ipynb",
      "version": "0.3.2",
      "provenance": [],
      "collapsed_sections": [],
      "include_colab_link": true
    },
    "kernelspec": {
      "name": "python3",
      "display_name": "Python 3"
    },
    "accelerator": "GPU"
  },
  "cells": [
    {
      "cell_type": "markdown",
      "metadata": {
        "id": "view-in-github",
        "colab_type": "text"
      },
      "source": [
        "<a href=\"https://colab.research.google.com/github/Kangjunseo/NLP/blob/master/Keras%EB%A7%9B%EB%B3%B4%EA%B8%B0.ipynb\" target=\"_parent\"><img src=\"https://colab.research.google.com/assets/colab-badge.svg\" alt=\"Open In Colab\"/></a>"
      ]
    },
    {
      "cell_type": "code",
      "metadata": {
        "id": "Gclh1ZMfK6dw",
        "colab_type": "code",
        "colab": {
          "base_uri": "https://localhost:8080/",
          "height": 34
        },
        "outputId": "ab23477d-80e8-4092-d866-a696828a5843"
      },
      "source": [
        "!pip install -q keras\n",
        "import keras"
      ],
      "execution_count": 2,
      "outputs": [
        {
          "output_type": "stream",
          "text": [
            "Using TensorFlow backend.\n"
          ],
          "name": "stderr"
        }
      ]
    },
    {
      "cell_type": "markdown",
      "metadata": {
        "id": "M7rfmVgXMuUY",
        "colab_type": "text"
      },
      "source": [
        "##1. 전처리"
      ]
    },
    {
      "cell_type": "code",
      "metadata": {
        "id": "E7JTh4dnLcIs",
        "colab_type": "code",
        "colab": {
          "base_uri": "https://localhost:8080/",
          "height": 69
        },
        "outputId": "d16865c7-9be2-4f80-925c-897e483cc000"
      },
      "source": [
        "from keras.preprocessing.text import Tokenizer\n",
        "t  = Tokenizer()\n",
        "fit_text = \"The earth is an awesome place live\"\n",
        "t.fit_on_texts([fit_text])\n",
        "\n",
        "test_text = \"The earth is an great place live\"\n",
        "sequences = t.texts_to_sequences([test_text])[0]\n",
        "\n",
        "print(\"sequences : \",sequences,'\\n') # great는 단어 집합(Vocabulary)에 없으므로 출력되지 않는다.\n",
        "print(\"word_index : \",t.word_index) # 단어 집합(Vocabulary) 출력"
      ],
      "execution_count": 5,
      "outputs": [
        {
          "output_type": "stream",
          "text": [
            "sequences :  [1, 2, 3, 4, 6, 7] \n",
            "\n",
            "word_index :  {'the': 1, 'earth': 2, 'is': 3, 'an': 4, 'awesome': 5, 'place': 6, 'live': 7}\n"
          ],
          "name": "stdout"
        }
      ]
    },
    {
      "cell_type": "markdown",
      "metadata": {
        "id": "bjcVnUjmNENN",
        "colab_type": "text"
      },
      "source": [
        "pad_sequence()는 정해준 길이에 모든 데이터의 길이를 동일하게 바꿔줍니다.  \n",
        "정해준 길이보다 길이가 긴 데이터는 데이터를 잘라버리고, 정해준 길이보다 길이가 짧은 데이터에는 0으로 채웁니다."
      ]
    },
    {
      "cell_type": "code",
      "metadata": {
        "id": "PuZ6Jz8hMwZz",
        "colab_type": "code",
        "colab": {
          "base_uri": "https://localhost:8080/",
          "height": 69
        },
        "outputId": "67ba23f9-2e68-4ad2-fd25-31a293968ed3"
      },
      "source": [
        "from keras.preprocessing.sequence import pad_sequences\n",
        "\n",
        "pad_sequences([[1, 2, 3], [3, 4, 5, 6], [7, 8]], maxlen=3, padding='pre')"
      ],
      "execution_count": 6,
      "outputs": [
        {
          "output_type": "execute_result",
          "data": {
            "text/plain": [
              "array([[1, 2, 3],\n",
              "       [4, 5, 6],\n",
              "       [0, 7, 8]], dtype=int32)"
            ]
          },
          "metadata": {
            "tags": []
          },
          "execution_count": 6
        }
      ]
    },
    {
      "cell_type": "markdown",
      "metadata": {
        "id": "mZOCb-OmNU3f",
        "colab_type": "text"
      },
      "source": [
        "첫번째 인자 = 패딩을 진행할 데이터  \n",
        "maxlen = 모든 데이터에 대해서 정규화 할 길이  \n",
        "padding = 'pre'를 선택하면 앞에 0을 채우고 'post'를 선택하면 뒤에 0을 채움. \n",
        "\n",
        "\n",
        "##2. 워드임베딩\n",
        "Embedding()의 입력으로 각 단어는 이미 정수 인코딩이 된 상태여야함  \n"
      ]
    },
    {
      "cell_type": "code",
      "metadata": {
        "id": "2MlCct_9NPzi",
        "colab_type": "code",
        "colab": {
          "base_uri": "https://localhost:8080/",
          "height": 34
        },
        "outputId": "5bb20535-6432-4aa6-bdcc-40ec3c7dab3a"
      },
      "source": [
        "# 문장 토큰화와 단어 토큰화가 되어 있는 상태라고 가정\n",
        "text=[['Hope', 'to', 'see', 'you', 'soon'],['Nice', 'to', 'see', 'you', 'again']]\n",
        "\n",
        "# 위의 데이터에 대해서 정수 인코딩을 수행하였다고 가정\n",
        "text=[[0, 1, 2, 3, 4],[5, 1, 2, 3, 6]]\n",
        "\n",
        "# 다음과 같이 위의 데이터에 대해서 임베딩 층을 만들고, 위의 데이터를 통과시킨다고 가정\n",
        "from keras.layers import Embedding\n",
        "Embedding(7, 2, input_length=5)\n",
        "# 7은 단어의 개수. 즉, 단어 집합(Vocabulary)의 크기이다.\n",
        "# 2는 임베딩한 후의 벡터의 크기이다.\n",
        "# 5는 각 입력 시퀀스의 길이. 즉, input_length이다."
      ],
      "execution_count": 8,
      "outputs": [
        {
          "output_type": "execute_result",
          "data": {
            "text/plain": [
              "<keras.layers.embeddings.Embedding at 0x7f4a18e82278>"
            ]
          },
          "metadata": {
            "tags": []
          },
          "execution_count": 8
        }
      ]
    },
    {
      "cell_type": "markdown",
      "metadata": {
        "id": "qFgphwvNOVOz",
        "colab_type": "text"
      },
      "source": [
        "첫번째 인자 = 단어 집합의 크기. 즉, 총 단어의 개수  \n",
        "두번째 인자 = 임베딩 벡터의 출력 차원. 결과로서 나오는 임베딩 벡터의 크기  \n",
        "input_length = 입력 시퀀스의 길이   "
      ]
    },
    {
      "cell_type": "code",
      "metadata": {
        "id": "gFV2W-chOPsC",
        "colab_type": "code",
        "colab": {
          "base_uri": "https://localhost:8080/",
          "height": 201
        },
        "outputId": "366a5654-b2f5-451d-d02c-0c6bec949c8c"
      },
      "source": [
        "from keras.models import Sequential\n",
        "model = Sequential()\n",
        "model.add(Embedding(vocabulary, hidden_size, input_length))"
      ],
      "execution_count": 10,
      "outputs": [
        {
          "output_type": "error",
          "ename": "NameError",
          "evalue": "ignored",
          "traceback": [
            "\u001b[0;31m---------------------------------------------------------------------------\u001b[0m",
            "\u001b[0;31mNameError\u001b[0m                                 Traceback (most recent call last)",
            "\u001b[0;32m<ipython-input-10-5925d68419d1>\u001b[0m in \u001b[0;36m<module>\u001b[0;34m()\u001b[0m\n\u001b[1;32m      1\u001b[0m \u001b[0;32mfrom\u001b[0m \u001b[0mkeras\u001b[0m\u001b[0;34m.\u001b[0m\u001b[0mmodels\u001b[0m \u001b[0;32mimport\u001b[0m \u001b[0mSequential\u001b[0m\u001b[0;34m\u001b[0m\u001b[0;34m\u001b[0m\u001b[0m\n\u001b[1;32m      2\u001b[0m \u001b[0mmodel\u001b[0m \u001b[0;34m=\u001b[0m \u001b[0mSequential\u001b[0m\u001b[0;34m(\u001b[0m\u001b[0;34m)\u001b[0m\u001b[0;34m\u001b[0m\u001b[0;34m\u001b[0m\u001b[0m\n\u001b[0;32m----> 3\u001b[0;31m \u001b[0mmodel\u001b[0m\u001b[0;34m.\u001b[0m\u001b[0madd\u001b[0m\u001b[0;34m(\u001b[0m\u001b[0mEmbedding\u001b[0m\u001b[0;34m(\u001b[0m\u001b[0mvocabulary\u001b[0m\u001b[0;34m,\u001b[0m \u001b[0mhidden_size\u001b[0m\u001b[0;34m,\u001b[0m \u001b[0minput_length\u001b[0m\u001b[0;34m)\u001b[0m\u001b[0;34m)\u001b[0m\u001b[0;34m\u001b[0m\u001b[0;34m\u001b[0m\u001b[0m\n\u001b[0m",
            "\u001b[0;31mNameError\u001b[0m: name 'vocabulary' is not defined"
          ]
        }
      ]
    },
    {
      "cell_type": "code",
      "metadata": {
        "id": "A3PrTrkOPGJI",
        "colab_type": "code",
        "colab": {
          "base_uri": "https://localhost:8080/",
          "height": 72
        },
        "outputId": "ae00e831-cb37-4b98-b03a-7db8d09d3710"
      },
      "source": [
        "from keras.models import Sequential\n",
        "from keras.layers import Dense\n",
        "model = Sequential()\n",
        "model.add(Dense(1, input_dim=3, init='uniform', activation='relu'))"
      ],
      "execution_count": 11,
      "outputs": [
        {
          "output_type": "stream",
          "text": [
            "/usr/local/lib/python3.6/dist-packages/ipykernel_launcher.py:4: UserWarning: Update your `Dense` call to the Keras 2 API: `Dense(1, input_dim=3, activation=\"relu\", kernel_initializer=\"uniform\")`\n",
            "  after removing the cwd from sys.path.\n"
          ],
          "name": "stderr"
        }
      ]
    },
    {
      "cell_type": "markdown",
      "metadata": {
        "id": "T6424IAuPbWO",
        "colab_type": "text"
      },
      "source": [
        "첫번째 인자 = 출력 뉴런의 수.  \n",
        "input_dim = 입력 뉴런의 수. (입력의 차원)  \n",
        "init = 가중치 초기화 방법.   \n",
        "> uniform : 균일 분포  \n",
        ">normal : 가우시안 분포  \n",
        "\n",
        "activation = 활성화 함수  "
      ]
    },
    {
      "cell_type": "code",
      "metadata": {
        "id": "tvK4DGFDPUpy",
        "colab_type": "code",
        "colab": {
          "base_uri": "https://localhost:8080/",
          "height": 72
        },
        "outputId": "178e7c63-3fc5-4b03-b2ea-902eff6f9081"
      },
      "source": [
        "from keras.models import Sequential\n",
        "from keras.layers import Dense\n",
        "model = Sequential()\n",
        "model.add(Dense(8, input_dim=4, init='uniform', activation='relu'))\n",
        "model.add(Dense(1, activation='sigmoid')) # 출력층"
      ],
      "execution_count": 12,
      "outputs": [
        {
          "output_type": "stream",
          "text": [
            "/usr/local/lib/python3.6/dist-packages/ipykernel_launcher.py:4: UserWarning: Update your `Dense` call to the Keras 2 API: `Dense(8, input_dim=4, activation=\"relu\", kernel_initializer=\"uniform\")`\n",
            "  after removing the cwd from sys.path.\n"
          ],
          "name": "stderr"
        }
      ]
    },
    {
      "cell_type": "code",
      "metadata": {
        "id": "CssGRr8oPt0m",
        "colab_type": "code",
        "colab": {
          "base_uri": "https://localhost:8080/",
          "height": 208
        },
        "outputId": "0579b302-667a-40bf-e1b5-7bb4897224c3"
      },
      "source": [
        "model.summary()"
      ],
      "execution_count": 13,
      "outputs": [
        {
          "output_type": "stream",
          "text": [
            "_________________________________________________________________\n",
            "Layer (type)                 Output Shape              Param #   \n",
            "=================================================================\n",
            "dense_2 (Dense)              (None, 8)                 40        \n",
            "_________________________________________________________________\n",
            "dense_3 (Dense)              (None, 1)                 9         \n",
            "=================================================================\n",
            "Total params: 49\n",
            "Trainable params: 49\n",
            "Non-trainable params: 0\n",
            "_________________________________________________________________\n"
          ],
          "name": "stdout"
        }
      ]
    },
    {
      "cell_type": "code",
      "metadata": {
        "id": "zud688elPzCd",
        "colab_type": "code",
        "colab": {}
      },
      "source": [
        "from keras.layers import SimpleRNN, Embedding, Dense\n",
        "from keras.models import Sequential\n",
        "max_features = 10000\n",
        "\n",
        "model = Sequential()\n",
        "model.add(Embedding(max_features, 32))\n",
        "model.add(SimpleRNN(32)) #RNN에 대한 설명은 뒤의 챕터에서 합니다.\n",
        "model.add(Dense(1, activation='sigmoid'))\n",
        "model.compile(optimizer='rmsprop', loss='binary_crossentropy', metrics=['acc'])"
      ],
      "execution_count": 0,
      "outputs": []
    },
    {
      "cell_type": "markdown",
      "metadata": {
        "id": "FhrGwriKQHJ3",
        "colab_type": "text"
      },
      "source": [
        "**optimizer** : 훈련 과정을 설정하는 옵티마이저를 설정합니다. 'adam'이나 'sgd'와 같이 문자열로 지정할 수도 있습니다.  \n",
        "**loss** : 최적화 과정에서 최소화될 손실 함수(loss function)를 설정합니다. 평균 제곱 오차(mse)와 categorical_crossentropy, binary_crossentropy 등이 자주 사용됩니다.   \n",
        "손실 함수의 이름을 지정하면 됩니다.  \n",
        "**metrics** : 훈련을 모니터링할 지표를 선택합니다."
      ]
    }
  ]
}
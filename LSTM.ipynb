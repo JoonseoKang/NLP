{
  "nbformat": 4,
  "nbformat_minor": 0,
  "metadata": {
    "colab": {
      "name": "LSTM.ipynb",
      "version": "0.3.2",
      "provenance": [],
      "include_colab_link": true
    },
    "kernelspec": {
      "name": "python3",
      "display_name": "Python 3"
    },
    "accelerator": "GPU"
  },
  "cells": [
    {
      "cell_type": "markdown",
      "metadata": {
        "id": "view-in-github",
        "colab_type": "text"
      },
      "source": [
        "<a href=\"https://colab.research.google.com/github/Kangjunseo/NLP/blob/master/LSTM.ipynb\" target=\"_parent\"><img src=\"https://colab.research.google.com/assets/colab-badge.svg\" alt=\"Open In Colab\"/></a>"
      ]
    },
    {
      "cell_type": "code",
      "metadata": {
        "id": "EdCkCix4QJvt",
        "colab_type": "code",
        "colab": {
          "base_uri": "https://localhost:8080/",
          "height": 34
        },
        "outputId": "e57a27d7-f1f3-4148-b4b3-d24c21e1ce59"
      },
      "source": [
        "from google.colab import drive\n",
        "drive.mount('/content/gdrive')"
      ],
      "execution_count": 1,
      "outputs": [
        {
          "output_type": "stream",
          "text": [
            "Drive already mounted at /content/gdrive; to attempt to forcibly remount, call drive.mount(\"/content/gdrive\", force_remount=True).\n"
          ],
          "name": "stdout"
        }
      ]
    },
    {
      "cell_type": "code",
      "metadata": {
        "id": "HLY4Gaq_RH20",
        "colab_type": "code",
        "colab": {}
      },
      "source": [
        "import os\n",
        "os.chdir(\"/content/gdrive/My Drive/Colab Notebooks/NLP\")"
      ],
      "execution_count": 0,
      "outputs": []
    },
    {
      "cell_type": "code",
      "metadata": {
        "id": "fR2e7UjmQDp4",
        "colab_type": "code",
        "colab": {
          "base_uri": "https://localhost:8080/",
          "height": 643
        },
        "outputId": "433ef0d4-4cb8-4288-f3d6-8bb23ae6abf1"
      },
      "source": [
        "import pandas as pd\n",
        "df=pd.read_csv('ArticlesApril2018.csv')\n",
        "df.head()"
      ],
      "execution_count": 4,
      "outputs": [
        {
          "output_type": "execute_result",
          "data": {
            "text/html": [
              "<div>\n",
              "<style scoped>\n",
              "    .dataframe tbody tr th:only-of-type {\n",
              "        vertical-align: middle;\n",
              "    }\n",
              "\n",
              "    .dataframe tbody tr th {\n",
              "        vertical-align: top;\n",
              "    }\n",
              "\n",
              "    .dataframe thead th {\n",
              "        text-align: right;\n",
              "    }\n",
              "</style>\n",
              "<table border=\"1\" class=\"dataframe\">\n",
              "  <thead>\n",
              "    <tr style=\"text-align: right;\">\n",
              "      <th></th>\n",
              "      <th>articleID</th>\n",
              "      <th>articleWordCount</th>\n",
              "      <th>byline</th>\n",
              "      <th>documentType</th>\n",
              "      <th>headline</th>\n",
              "      <th>keywords</th>\n",
              "      <th>multimedia</th>\n",
              "      <th>newDesk</th>\n",
              "      <th>printPage</th>\n",
              "      <th>pubDate</th>\n",
              "      <th>sectionName</th>\n",
              "      <th>snippet</th>\n",
              "      <th>source</th>\n",
              "      <th>typeOfMaterial</th>\n",
              "      <th>webURL</th>\n",
              "    </tr>\n",
              "  </thead>\n",
              "  <tbody>\n",
              "    <tr>\n",
              "      <th>0</th>\n",
              "      <td>5adf6684068401528a2aa69b</td>\n",
              "      <td>781</td>\n",
              "      <td>By JOHN BRANCH</td>\n",
              "      <td>article</td>\n",
              "      <td>Former N.F.L. Cheerleaders’ Settlement Offer: ...</td>\n",
              "      <td>['Workplace Hazards and Violations', 'Football...</td>\n",
              "      <td>68</td>\n",
              "      <td>Sports</td>\n",
              "      <td>0</td>\n",
              "      <td>2018-04-24 17:16:49</td>\n",
              "      <td>Pro Football</td>\n",
              "      <td>“I understand that they could meet with us, pa...</td>\n",
              "      <td>The New York Times</td>\n",
              "      <td>News</td>\n",
              "      <td>https://www.nytimes.com/2018/04/24/sports/foot...</td>\n",
              "    </tr>\n",
              "    <tr>\n",
              "      <th>1</th>\n",
              "      <td>5adf653f068401528a2aa697</td>\n",
              "      <td>656</td>\n",
              "      <td>By LISA FRIEDMAN</td>\n",
              "      <td>article</td>\n",
              "      <td>E.P.A. to Unveil a New Rule. Its Effect: Less ...</td>\n",
              "      <td>['Environmental Protection Agency', 'Pruitt, S...</td>\n",
              "      <td>68</td>\n",
              "      <td>Climate</td>\n",
              "      <td>0</td>\n",
              "      <td>2018-04-24 17:11:21</td>\n",
              "      <td>Unknown</td>\n",
              "      <td>The agency plans to publish a new regulation T...</td>\n",
              "      <td>The New York Times</td>\n",
              "      <td>News</td>\n",
              "      <td>https://www.nytimes.com/2018/04/24/climate/epa...</td>\n",
              "    </tr>\n",
              "    <tr>\n",
              "      <th>2</th>\n",
              "      <td>5adf4626068401528a2aa628</td>\n",
              "      <td>2427</td>\n",
              "      <td>By PETE WELLS</td>\n",
              "      <td>article</td>\n",
              "      <td>The New Noma, Explained</td>\n",
              "      <td>['Restaurants', 'Noma (Copenhagen, Restaurant)...</td>\n",
              "      <td>66</td>\n",
              "      <td>Dining</td>\n",
              "      <td>0</td>\n",
              "      <td>2018-04-24 14:58:44</td>\n",
              "      <td>Unknown</td>\n",
              "      <td>What’s it like to eat at the second incarnatio...</td>\n",
              "      <td>The New York Times</td>\n",
              "      <td>News</td>\n",
              "      <td>https://www.nytimes.com/2018/04/24/dining/noma...</td>\n",
              "    </tr>\n",
              "    <tr>\n",
              "      <th>3</th>\n",
              "      <td>5adf40d2068401528a2aa619</td>\n",
              "      <td>626</td>\n",
              "      <td>By JULIE HIRSCHFELD DAVIS and PETER BAKER</td>\n",
              "      <td>article</td>\n",
              "      <td>Unknown</td>\n",
              "      <td>['Macron, Emmanuel (1977- )', 'Trump, Donald J...</td>\n",
              "      <td>68</td>\n",
              "      <td>Washington</td>\n",
              "      <td>0</td>\n",
              "      <td>2018-04-24 14:35:57</td>\n",
              "      <td>Europe</td>\n",
              "      <td>President Trump welcomed President Emmanuel Ma...</td>\n",
              "      <td>The New York Times</td>\n",
              "      <td>News</td>\n",
              "      <td>https://www.nytimes.com/2018/04/24/world/europ...</td>\n",
              "    </tr>\n",
              "    <tr>\n",
              "      <th>4</th>\n",
              "      <td>5adf3d64068401528a2aa60f</td>\n",
              "      <td>815</td>\n",
              "      <td>By IAN AUSTEN and DAN BILEFSKY</td>\n",
              "      <td>article</td>\n",
              "      <td>Unknown</td>\n",
              "      <td>['Toronto, Ontario, Attack (April, 2018)', 'Mu...</td>\n",
              "      <td>68</td>\n",
              "      <td>Foreign</td>\n",
              "      <td>0</td>\n",
              "      <td>2018-04-24 14:21:21</td>\n",
              "      <td>Canada</td>\n",
              "      <td>Alek Minassian, 25, a resident of Toronto’s Ri...</td>\n",
              "      <td>The New York Times</td>\n",
              "      <td>News</td>\n",
              "      <td>https://www.nytimes.com/2018/04/24/world/canad...</td>\n",
              "    </tr>\n",
              "  </tbody>\n",
              "</table>\n",
              "</div>"
            ],
            "text/plain": [
              "                  articleID  ...                                             webURL\n",
              "0  5adf6684068401528a2aa69b  ...  https://www.nytimes.com/2018/04/24/sports/foot...\n",
              "1  5adf653f068401528a2aa697  ...  https://www.nytimes.com/2018/04/24/climate/epa...\n",
              "2  5adf4626068401528a2aa628  ...  https://www.nytimes.com/2018/04/24/dining/noma...\n",
              "3  5adf40d2068401528a2aa619  ...  https://www.nytimes.com/2018/04/24/world/europ...\n",
              "4  5adf3d64068401528a2aa60f  ...  https://www.nytimes.com/2018/04/24/world/canad...\n",
              "\n",
              "[5 rows x 15 columns]"
            ]
          },
          "metadata": {
            "tags": []
          },
          "execution_count": 4
        }
      ]
    },
    {
      "cell_type": "code",
      "metadata": {
        "id": "n-sjgh-eS-la",
        "colab_type": "code",
        "colab": {
          "base_uri": "https://localhost:8080/",
          "height": 104
        },
        "outputId": "446f9b6a-497c-4f68-dc89-0eb4653d91c4"
      },
      "source": [
        "headline = [] # 리스트 선언\n",
        "headline.extend(list(df.headline.values)) # 헤드라인의 값들을 리스트로 저장\n",
        "headline[:5] # 상위 5개만 출력"
      ],
      "execution_count": 5,
      "outputs": [
        {
          "output_type": "execute_result",
          "data": {
            "text/plain": [
              "['Former N.F.L. Cheerleaders’ Settlement Offer: $1 and a Meeting With Goodell',\n",
              " 'E.P.A. to Unveil a New Rule. Its Effect: Less Science in Policymaking.',\n",
              " 'The New Noma, Explained',\n",
              " 'Unknown',\n",
              " 'Unknown']"
            ]
          },
          "metadata": {
            "tags": []
          },
          "execution_count": 5
        }
      ]
    },
    {
      "cell_type": "code",
      "metadata": {
        "id": "c0JEWvcgTiWI",
        "colab_type": "code",
        "colab": {
          "base_uri": "https://localhost:8080/",
          "height": 34
        },
        "outputId": "728a33a3-1f53-43f5-b5b5-0506fe92bdbf"
      },
      "source": [
        "len(headline) # 현재 데이터의 길이"
      ],
      "execution_count": 6,
      "outputs": [
        {
          "output_type": "execute_result",
          "data": {
            "text/plain": [
              "1324"
            ]
          },
          "metadata": {
            "tags": []
          },
          "execution_count": 6
        }
      ]
    },
    {
      "cell_type": "code",
      "metadata": {
        "id": "njwpV3QkT7cg",
        "colab_type": "code",
        "colab": {
          "base_uri": "https://localhost:8080/",
          "height": 34
        },
        "outputId": "7c734b9f-36c3-4d0c-fcaf-b626d4bc59e7"
      },
      "source": [
        "headline = [n for n in headline if n != \"Unknown\"] # Unknown 데이터 제거\n",
        "len(headline) # 제거 후 데이터의 길이"
      ],
      "execution_count": 7,
      "outputs": [
        {
          "output_type": "execute_result",
          "data": {
            "text/plain": [
              "1214"
            ]
          },
          "metadata": {
            "tags": []
          },
          "execution_count": 7
        }
      ]
    },
    {
      "cell_type": "code",
      "metadata": {
        "id": "dIojAJWtUBnz",
        "colab_type": "code",
        "colab": {
          "base_uri": "https://localhost:8080/",
          "height": 104
        },
        "outputId": "e0cb0f0a-9451-4536-90e6-a86f17044fea"
      },
      "source": [
        "from string import punctuation\n",
        "def preprocessing(s):\n",
        "    return ''.join(c for c in s if c not in punctuation).lower() # 구두점 제거와 동시에 소문자화\n",
        "\n",
        "text = [preprocessing(x) for x in headline]\n",
        "text[:5]"
      ],
      "execution_count": 8,
      "outputs": [
        {
          "output_type": "execute_result",
          "data": {
            "text/plain": [
              "['former nfl cheerleaders’ settlement offer 1 and a meeting with goodell',\n",
              " 'epa to unveil a new rule its effect less science in policymaking',\n",
              " 'the new noma explained',\n",
              " 'how a bag of texas dirt  became a times tradition',\n",
              " 'is school a place for selfexpression']"
            ]
          },
          "metadata": {
            "tags": []
          },
          "execution_count": 8
        }
      ]
    },
    {
      "cell_type": "code",
      "metadata": {
        "id": "LuTq-MOnUS4J",
        "colab_type": "code",
        "colab": {
          "base_uri": "https://localhost:8080/",
          "height": 104
        },
        "outputId": "97f26733-6584-4ee2-c65b-9dca77eafc2a"
      },
      "source": [
        "from string import punctuation\n",
        "def repreprocessing(s):\n",
        "    s=s.encode(\"utf8\").decode(\"ascii\",'ignore') # 코드 추가\n",
        "    return ''.join(c for c in s if c not in punctuation).lower() # 구두점 제거와 동시에 소문자화\n",
        "\n",
        "text = [repreprocessing(x) for x in headline]\n",
        "text[:5]"
      ],
      "execution_count": 9,
      "outputs": [
        {
          "output_type": "execute_result",
          "data": {
            "text/plain": [
              "['former nfl cheerleaders settlement offer 1 and a meeting with goodell',\n",
              " 'epa to unveil a new rule its effect less science in policymaking',\n",
              " 'the new noma explained',\n",
              " 'how a bag of texas dirt  became a times tradition',\n",
              " 'is school a place for selfexpression']"
            ]
          },
          "metadata": {
            "tags": []
          },
          "execution_count": 9
        }
      ]
    },
    {
      "cell_type": "code",
      "metadata": {
        "id": "SXI7rSnyUbm7",
        "colab_type": "code",
        "colab": {
          "base_uri": "https://localhost:8080/",
          "height": 34
        },
        "outputId": "71a9beae-c230-44fb-fbc0-b5fa23abff75"
      },
      "source": [
        "from keras_preprocessing.text import Tokenizer\n",
        "t = Tokenizer()\n",
        "t.fit_on_texts(text)\n",
        "vocab_size = len(t.word_index) + 1\n",
        "print('단어 집합의 크기 : %d' % vocab_size)"
      ],
      "execution_count": 10,
      "outputs": [
        {
          "output_type": "stream",
          "text": [
            "단어 집합의 크기 : 3494\n"
          ],
          "name": "stdout"
        }
      ]
    },
    {
      "cell_type": "code",
      "metadata": {
        "id": "ErJydna8UgHv",
        "colab_type": "code",
        "colab": {
          "base_uri": "https://localhost:8080/",
          "height": 104
        },
        "outputId": "85e19b64-eb04-4298-96d6-bb7dc3e40512"
      },
      "source": [
        "sequences = list()\n",
        "\n",
        "for line in text: # 1214 개의 데이터에 대해서 데이터를 1개씩 가져온다.\n",
        "    encoded = t.texts_to_sequences([line])[0] # 각 데이터에 대한 정수 인코딩\n",
        "    \n",
        "    for i in range(1, len(encoded)):\n",
        "        sequence = encoded[:i+1]\n",
        "        sequences.append(sequence)\n",
        "\n",
        "sequences[:5]"
      ],
      "execution_count": 12,
      "outputs": [
        {
          "output_type": "execute_result",
          "data": {
            "text/plain": [
              "[[99, 269],\n",
              " [99, 269, 371],\n",
              " [99, 269, 371, 1115],\n",
              " [99, 269, 371, 1115, 582],\n",
              " [99, 269, 371, 1115, 582, 52]]"
            ]
          },
          "metadata": {
            "tags": []
          },
          "execution_count": 12
        }
      ]
    },
    {
      "cell_type": "code",
      "metadata": {
        "id": "up93dWGSUqn0",
        "colab_type": "code",
        "colab": {
          "base_uri": "https://localhost:8080/",
          "height": 34
        },
        "outputId": "4945762a-1031-4f93-88d7-c956cf179f58"
      },
      "source": [
        "max_len=max(len(l) for l in sequences)\n",
        "print(max_len)"
      ],
      "execution_count": 13,
      "outputs": [
        {
          "output_type": "stream",
          "text": [
            "24\n"
          ],
          "name": "stdout"
        }
      ]
    },
    {
      "cell_type": "code",
      "metadata": {
        "id": "_vJ5DXlAU44V",
        "colab_type": "code",
        "colab": {
          "base_uri": "https://localhost:8080/",
          "height": 139
        },
        "outputId": "d11ee54c-66f1-4e9e-c17c-0cf5aee3d106"
      },
      "source": [
        "from keras.preprocessing.sequence import pad_sequences\n",
        "sequences = pad_sequences(sequences, maxlen=max_len, padding='pre')\n",
        "print(sequences[:3])"
      ],
      "execution_count": 14,
      "outputs": [
        {
          "output_type": "stream",
          "text": [
            "Using TensorFlow backend.\n"
          ],
          "name": "stderr"
        },
        {
          "output_type": "stream",
          "text": [
            "[[   0    0    0    0    0    0    0    0    0    0    0    0    0    0\n",
            "     0    0    0    0    0    0    0    0   99  269]\n",
            " [   0    0    0    0    0    0    0    0    0    0    0    0    0    0\n",
            "     0    0    0    0    0    0    0   99  269  371]\n",
            " [   0    0    0    0    0    0    0    0    0    0    0    0    0    0\n",
            "     0    0    0    0    0    0   99  269  371 1115]]\n"
          ],
          "name": "stdout"
        }
      ]
    },
    {
      "cell_type": "markdown",
      "metadata": {
        "id": "rA8pJ1wlVA7v",
        "colab_type": "text"
      },
      "source": [
        "padding='pre'를 설정하면 데이터의 길이가 24보다 짧은 경우에는 앞에 0으로"
      ]
    },
    {
      "cell_type": "code",
      "metadata": {
        "id": "UnB2X-j7U8WH",
        "colab_type": "code",
        "colab": {}
      },
      "source": [
        "import numpy as np\n",
        "sequences = np.array(sequences)\n",
        "X = sequences[:,:-1]\n",
        "y = sequences[:,-1]"
      ],
      "execution_count": 0,
      "outputs": []
    },
    {
      "cell_type": "code",
      "metadata": {
        "id": "eOTDGlSnVDEq",
        "colab_type": "code",
        "colab": {
          "base_uri": "https://localhost:8080/",
          "height": 139
        },
        "outputId": "f79330fe-22c6-4571-c767-56eaa8cf022a"
      },
      "source": [
        "print(X)"
      ],
      "execution_count": 16,
      "outputs": [
        {
          "output_type": "stream",
          "text": [
            "[[   0    0    0 ...    0    0   99]\n",
            " [   0    0    0 ...    0   99  269]\n",
            " [   0    0    0 ...   99  269  371]\n",
            " ...\n",
            " [   0    0    0 ...  170    8 3493]\n",
            " [   0    0    0 ...    8 3493  115]\n",
            " [   0    0    0 ... 3493  115    2]]\n"
          ],
          "name": "stdout"
        }
      ]
    },
    {
      "cell_type": "code",
      "metadata": {
        "id": "zF84RT3XVEyG",
        "colab_type": "code",
        "colab": {}
      },
      "source": [
        "from keras.utils import to_categorical\n",
        "y = to_categorical(y, num_classes=vocab_size)"
      ],
      "execution_count": 0,
      "outputs": []
    },
    {
      "cell_type": "code",
      "metadata": {
        "id": "dNQrQVByVL1L",
        "colab_type": "code",
        "colab": {
          "base_uri": "https://localhost:8080/",
          "height": 139
        },
        "outputId": "30300b0c-c640-4962-9f0f-a859aa4781ec"
      },
      "source": [
        "print(y)"
      ],
      "execution_count": 18,
      "outputs": [
        {
          "output_type": "stream",
          "text": [
            "[[0. 0. 0. ... 0. 0. 0.]\n",
            " [0. 0. 0. ... 0. 0. 0.]\n",
            " [0. 0. 0. ... 0. 0. 0.]\n",
            " ...\n",
            " [0. 0. 0. ... 0. 0. 0.]\n",
            " [0. 0. 1. ... 0. 0. 0.]\n",
            " [0. 0. 0. ... 0. 0. 0.]]\n"
          ],
          "name": "stdout"
        }
      ]
    },
    {
      "cell_type": "code",
      "metadata": {
        "id": "git7JJUzWBi4",
        "colab_type": "code",
        "colab": {
          "base_uri": "https://localhost:8080/",
          "height": 555
        },
        "outputId": "575a53a8-709a-4255-eff0-37a68a776ef5"
      },
      "source": [
        "from tensorflow.python.client import device_lib\n",
        "\n",
        "print(device_lib.list_local_devices())"
      ],
      "execution_count": 20,
      "outputs": [
        {
          "output_type": "stream",
          "text": [
            "[name: \"/device:CPU:0\"\n",
            "device_type: \"CPU\"\n",
            "memory_limit: 268435456\n",
            "locality {\n",
            "}\n",
            "incarnation: 4973093050002506886\n",
            ", name: \"/device:XLA_CPU:0\"\n",
            "device_type: \"XLA_CPU\"\n",
            "memory_limit: 17179869184\n",
            "locality {\n",
            "}\n",
            "incarnation: 4065842990651980477\n",
            "physical_device_desc: \"device: XLA_CPU device\"\n",
            ", name: \"/device:XLA_GPU:0\"\n",
            "device_type: \"XLA_GPU\"\n",
            "memory_limit: 17179869184\n",
            "locality {\n",
            "}\n",
            "incarnation: 12392585855594572980\n",
            "physical_device_desc: \"device: XLA_GPU device\"\n",
            ", name: \"/device:GPU:0\"\n",
            "device_type: \"GPU\"\n",
            "memory_limit: 14800692839\n",
            "locality {\n",
            "  bus_id: 1\n",
            "  links {\n",
            "  }\n",
            "}\n",
            "incarnation: 1557106992668262239\n",
            "physical_device_desc: \"device: 0, name: Tesla T4, pci bus id: 0000:00:04.0, compute capability: 7.5\"\n",
            "]\n"
          ],
          "name": "stdout"
        }
      ]
    },
    {
      "cell_type": "code",
      "metadata": {
        "id": "I70y7byBVNgP",
        "colab_type": "code",
        "colab": {
          "base_uri": "https://localhost:8080/",
          "height": 6981
        },
        "outputId": "14eecf74-4c76-4fd9-fcc9-1caaf9e091a0"
      },
      "source": [
        "from keras.layers import Embedding, Dense, LSTM\n",
        "from keras.models import Sequential\n",
        "\n",
        "model = Sequential()\n",
        "model.add(Embedding(vocab_size, 10, input_length=max_len-1))\n",
        "# y를 제거하였으므로 이제 X의 길이는 기존 데이터의 길이 - 1\n",
        "model.add(LSTM(128))\n",
        "model.add(Dense(vocab_size, activation='softmax'))\n",
        "model.compile(loss='categorical_crossentropy', optimizer='adam', metrics=['accuracy'])\n",
        "model.fit(X, y, epochs=200, verbose=2)"
      ],
      "execution_count": 21,
      "outputs": [
        {
          "output_type": "stream",
          "text": [
            "Epoch 1/200\n",
            " - 9s - loss: 7.6605 - acc: 0.0250\n",
            "Epoch 2/200\n",
            " - 8s - loss: 7.1240 - acc: 0.0274\n",
            "Epoch 3/200\n",
            " - 8s - loss: 6.9902 - acc: 0.0372\n",
            "Epoch 4/200\n",
            " - 8s - loss: 6.8619 - acc: 0.0424\n",
            "Epoch 5/200\n",
            " - 8s - loss: 6.7130 - acc: 0.0447\n",
            "Epoch 6/200\n",
            " - 9s - loss: 6.5425 - acc: 0.0469\n",
            "Epoch 7/200\n",
            " - 8s - loss: 6.3560 - acc: 0.0527\n",
            "Epoch 8/200\n",
            " - 8s - loss: 6.1616 - acc: 0.0578\n",
            "Epoch 9/200\n",
            " - 8s - loss: 5.9657 - acc: 0.0609\n",
            "Epoch 10/200\n",
            " - 8s - loss: 5.7722 - acc: 0.0657\n",
            "Epoch 11/200\n",
            " - 8s - loss: 5.5832 - acc: 0.0697\n",
            "Epoch 12/200\n",
            " - 8s - loss: 5.4090 - acc: 0.0752\n",
            "Epoch 13/200\n",
            " - 9s - loss: 5.2398 - acc: 0.0832\n",
            "Epoch 14/200\n",
            " - 10s - loss: 5.0792 - acc: 0.0925\n",
            "Epoch 15/200\n",
            " - 9s - loss: 4.9270 - acc: 0.0984\n",
            "Epoch 16/200\n",
            " - 9s - loss: 4.7804 - acc: 0.1135\n",
            "Epoch 17/200\n",
            " - 8s - loss: 4.6378 - acc: 0.1260\n",
            "Epoch 18/200\n",
            " - 8s - loss: 4.5025 - acc: 0.1385\n",
            "Epoch 19/200\n",
            " - 8s - loss: 4.3687 - acc: 0.1616\n",
            "Epoch 20/200\n",
            " - 8s - loss: 4.2404 - acc: 0.1794\n",
            "Epoch 21/200\n",
            " - 8s - loss: 4.1172 - acc: 0.1942\n",
            "Epoch 22/200\n",
            " - 8s - loss: 4.0004 - acc: 0.2148\n",
            "Epoch 23/200\n",
            " - 8s - loss: 3.8811 - acc: 0.2312\n",
            "Epoch 24/200\n",
            " - 9s - loss: 3.7774 - acc: 0.2470\n",
            "Epoch 25/200\n",
            " - 9s - loss: 3.6665 - acc: 0.2680\n",
            "Epoch 26/200\n",
            " - 8s - loss: 3.5648 - acc: 0.2880\n",
            "Epoch 27/200\n",
            " - 8s - loss: 3.4649 - acc: 0.3016\n",
            "Epoch 28/200\n",
            " - 8s - loss: 3.3681 - acc: 0.3195\n",
            "Epoch 29/200\n",
            " - 8s - loss: 3.2771 - acc: 0.3370\n",
            "Epoch 30/200\n",
            " - 8s - loss: 3.1909 - acc: 0.3468\n",
            "Epoch 31/200\n",
            " - 8s - loss: 3.1061 - acc: 0.3628\n",
            "Epoch 32/200\n",
            " - 8s - loss: 3.0205 - acc: 0.3827\n",
            "Epoch 33/200\n",
            " - 8s - loss: 2.9410 - acc: 0.3966\n",
            "Epoch 34/200\n",
            " - 9s - loss: 2.8645 - acc: 0.4151\n",
            "Epoch 35/200\n",
            " - 9s - loss: 2.7908 - acc: 0.4202\n",
            "Epoch 36/200\n",
            " - 8s - loss: 2.7189 - acc: 0.4369\n",
            "Epoch 37/200\n",
            " - 8s - loss: 2.6501 - acc: 0.4520\n",
            "Epoch 38/200\n",
            " - 8s - loss: 2.5857 - acc: 0.4626\n",
            "Epoch 39/200\n",
            " - 8s - loss: 2.5182 - acc: 0.4748\n",
            "Epoch 40/200\n",
            " - 8s - loss: 2.4583 - acc: 0.4885\n",
            "Epoch 41/200\n",
            " - 8s - loss: 2.3927 - acc: 0.5037\n",
            "Epoch 42/200\n",
            " - 8s - loss: 2.3341 - acc: 0.5153\n",
            "Epoch 43/200\n",
            " - 8s - loss: 2.2767 - acc: 0.5324\n",
            "Epoch 44/200\n",
            " - 9s - loss: 2.2173 - acc: 0.5431\n",
            "Epoch 45/200\n",
            " - 8s - loss: 2.1615 - acc: 0.5475\n",
            "Epoch 46/200\n",
            " - 8s - loss: 2.1078 - acc: 0.5615\n",
            "Epoch 47/200\n",
            " - 8s - loss: 2.0555 - acc: 0.5727\n",
            "Epoch 48/200\n",
            " - 8s - loss: 2.0048 - acc: 0.5831\n",
            "Epoch 49/200\n",
            " - 9s - loss: 1.9535 - acc: 0.5950\n",
            "Epoch 50/200\n",
            " - 9s - loss: 1.9047 - acc: 0.6054\n",
            "Epoch 51/200\n",
            " - 9s - loss: 1.8584 - acc: 0.6190\n",
            "Epoch 52/200\n",
            " - 8s - loss: 1.8108 - acc: 0.6263\n",
            "Epoch 53/200\n",
            " - 9s - loss: 1.7709 - acc: 0.6346\n",
            "Epoch 54/200\n",
            " - 9s - loss: 1.7263 - acc: 0.6448\n",
            "Epoch 55/200\n",
            " - 8s - loss: 1.6799 - acc: 0.6565\n",
            "Epoch 56/200\n",
            " - 8s - loss: 1.6410 - acc: 0.6651\n",
            "Epoch 57/200\n",
            " - 8s - loss: 1.6003 - acc: 0.6722\n",
            "Epoch 58/200\n",
            " - 8s - loss: 1.5605 - acc: 0.6809\n",
            "Epoch 59/200\n",
            " - 8s - loss: 1.5255 - acc: 0.6900\n",
            "Epoch 60/200\n",
            " - 8s - loss: 1.4862 - acc: 0.7000\n",
            "Epoch 61/200\n",
            " - 8s - loss: 1.4483 - acc: 0.7050\n",
            "Epoch 62/200\n",
            " - 8s - loss: 1.4161 - acc: 0.7102\n",
            "Epoch 63/200\n",
            " - 9s - loss: 1.3806 - acc: 0.7210\n",
            "Epoch 64/200\n",
            " - 8s - loss: 1.3451 - acc: 0.7254\n",
            "Epoch 65/200\n",
            " - 8s - loss: 1.3173 - acc: 0.7347\n",
            "Epoch 66/200\n",
            " - 8s - loss: 1.2841 - acc: 0.7424\n",
            "Epoch 67/200\n",
            " - 8s - loss: 1.2513 - acc: 0.7451\n",
            "Epoch 68/200\n",
            " - 8s - loss: 1.2234 - acc: 0.7528\n",
            "Epoch 69/200\n",
            " - 8s - loss: 1.1938 - acc: 0.7588\n",
            "Epoch 70/200\n",
            " - 8s - loss: 1.1615 - acc: 0.7643\n",
            "Epoch 71/200\n",
            " - 9s - loss: 1.1371 - acc: 0.7706\n",
            "Epoch 72/200\n",
            " - 9s - loss: 1.1088 - acc: 0.7787\n",
            "Epoch 73/200\n",
            " - 9s - loss: 1.0823 - acc: 0.7810\n",
            "Epoch 74/200\n",
            " - 9s - loss: 1.0558 - acc: 0.7906\n",
            "Epoch 75/200\n",
            " - 9s - loss: 1.0295 - acc: 0.7933\n",
            "Epoch 76/200\n",
            " - 8s - loss: 1.0062 - acc: 0.7985\n",
            "Epoch 77/200\n",
            " - 8s - loss: 0.9825 - acc: 0.8035\n",
            "Epoch 78/200\n",
            " - 8s - loss: 0.9602 - acc: 0.8106\n",
            "Epoch 79/200\n",
            " - 8s - loss: 0.9358 - acc: 0.8158\n",
            "Epoch 80/200\n",
            " - 8s - loss: 0.9194 - acc: 0.8201\n",
            "Epoch 81/200\n",
            " - 9s - loss: 0.8918 - acc: 0.8238\n",
            "Epoch 82/200\n",
            " - 9s - loss: 0.8692 - acc: 0.8296\n",
            "Epoch 83/200\n",
            " - 8s - loss: 0.8496 - acc: 0.8330\n",
            "Epoch 84/200\n",
            " - 8s - loss: 0.8324 - acc: 0.8358\n",
            "Epoch 85/200\n",
            " - 9s - loss: 0.8168 - acc: 0.8408\n",
            "Epoch 86/200\n",
            " - 9s - loss: 0.7944 - acc: 0.8435\n",
            "Epoch 87/200\n",
            " - 10s - loss: 0.7763 - acc: 0.8458\n",
            "Epoch 88/200\n",
            " - 8s - loss: 0.7599 - acc: 0.8498\n",
            "Epoch 89/200\n",
            " - 8s - loss: 0.7408 - acc: 0.8543\n",
            "Epoch 90/200\n",
            " - 8s - loss: 0.7247 - acc: 0.8585\n",
            "Epoch 91/200\n",
            " - 9s - loss: 0.7073 - acc: 0.8612\n",
            "Epoch 92/200\n",
            " - 9s - loss: 0.6928 - acc: 0.8647\n",
            "Epoch 93/200\n",
            " - 9s - loss: 0.6787 - acc: 0.8649\n",
            "Epoch 94/200\n",
            " - 9s - loss: 0.6622 - acc: 0.8712\n",
            "Epoch 95/200\n",
            " - 8s - loss: 0.6485 - acc: 0.8718\n",
            "Epoch 96/200\n",
            " - 8s - loss: 0.6394 - acc: 0.8729\n",
            "Epoch 97/200\n",
            " - 8s - loss: 0.6222 - acc: 0.8756\n",
            "Epoch 98/200\n",
            " - 8s - loss: 0.6081 - acc: 0.8783\n",
            "Epoch 99/200\n",
            " - 8s - loss: 0.5943 - acc: 0.8836\n",
            "Epoch 100/200\n",
            " - 9s - loss: 0.5825 - acc: 0.8830\n",
            "Epoch 101/200\n",
            " - 9s - loss: 0.5698 - acc: 0.8854\n",
            "Epoch 102/200\n",
            " - 8s - loss: 0.5610 - acc: 0.8862\n",
            "Epoch 103/200\n",
            " - 8s - loss: 0.5481 - acc: 0.8886\n",
            "Epoch 104/200\n",
            " - 8s - loss: 0.5381 - acc: 0.8899\n",
            "Epoch 105/200\n",
            " - 8s - loss: 0.5297 - acc: 0.8911\n",
            "Epoch 106/200\n",
            " - 8s - loss: 0.5202 - acc: 0.8922\n",
            "Epoch 107/200\n",
            " - 8s - loss: 0.5088 - acc: 0.8944\n",
            "Epoch 108/200\n",
            " - 8s - loss: 0.4976 - acc: 0.8976\n",
            "Epoch 109/200\n",
            " - 8s - loss: 0.4932 - acc: 0.8959\n",
            "Epoch 110/200\n",
            " - 9s - loss: 0.4818 - acc: 0.8984\n",
            "Epoch 111/200\n",
            " - 8s - loss: 0.4731 - acc: 0.8991\n",
            "Epoch 112/200\n",
            " - 8s - loss: 0.4643 - acc: 0.9020\n",
            "Epoch 113/200\n",
            " - 8s - loss: 0.4566 - acc: 0.9029\n",
            "Epoch 114/200\n",
            " - 8s - loss: 0.4469 - acc: 0.9048\n",
            "Epoch 115/200\n",
            " - 8s - loss: 0.4414 - acc: 0.9044\n",
            "Epoch 116/200\n",
            " - 8s - loss: 0.4338 - acc: 0.9055\n",
            "Epoch 117/200\n",
            " - 8s - loss: 0.4258 - acc: 0.9062\n",
            "Epoch 118/200\n",
            " - 8s - loss: 0.4241 - acc: 0.9068\n",
            "Epoch 119/200\n",
            " - 9s - loss: 0.4438 - acc: 0.9039\n",
            "Epoch 120/200\n",
            " - 9s - loss: 0.4226 - acc: 0.9058\n",
            "Epoch 121/200\n",
            " - 9s - loss: 0.4034 - acc: 0.9098\n",
            "Epoch 122/200\n",
            " - 8s - loss: 0.3942 - acc: 0.9107\n",
            "Epoch 123/200\n",
            " - 9s - loss: 0.3883 - acc: 0.9123\n",
            "Epoch 124/200\n",
            " - 9s - loss: 0.3841 - acc: 0.9107\n",
            "Epoch 125/200\n",
            " - 8s - loss: 0.3783 - acc: 0.9121\n",
            "Epoch 126/200\n",
            " - 8s - loss: 0.3744 - acc: 0.9120\n",
            "Epoch 127/200\n",
            " - 8s - loss: 0.3707 - acc: 0.9104\n",
            "Epoch 128/200\n",
            " - 9s - loss: 0.3669 - acc: 0.9116\n",
            "Epoch 129/200\n",
            " - 9s - loss: 0.3681 - acc: 0.9136\n",
            "Epoch 130/200\n",
            " - 8s - loss: 0.3641 - acc: 0.9132\n",
            "Epoch 131/200\n",
            " - 8s - loss: 0.3546 - acc: 0.9157\n",
            "Epoch 132/200\n",
            " - 8s - loss: 0.3537 - acc: 0.9143\n",
            "Epoch 133/200\n",
            " - 8s - loss: 0.3481 - acc: 0.9140\n",
            "Epoch 134/200\n",
            " - 8s - loss: 0.3467 - acc: 0.9136\n",
            "Epoch 135/200\n",
            " - 8s - loss: 0.3709 - acc: 0.9111\n",
            "Epoch 136/200\n",
            " - 8s - loss: 0.3508 - acc: 0.9121\n",
            "Epoch 137/200\n",
            " - 8s - loss: 0.3351 - acc: 0.9154\n",
            "Epoch 138/200\n",
            " - 9s - loss: 0.3290 - acc: 0.9157\n",
            "Epoch 139/200\n",
            " - 9s - loss: 0.3265 - acc: 0.9149\n",
            "Epoch 140/200\n",
            " - 8s - loss: 0.3234 - acc: 0.9167\n",
            "Epoch 141/200\n",
            " - 8s - loss: 0.3224 - acc: 0.9152\n",
            "Epoch 142/200\n",
            " - 8s - loss: 0.3198 - acc: 0.9163\n",
            "Epoch 143/200\n",
            " - 8s - loss: 0.3216 - acc: 0.9157\n",
            "Epoch 144/200\n",
            " - 8s - loss: 0.3174 - acc: 0.9144\n",
            "Epoch 145/200\n",
            " - 8s - loss: 0.3157 - acc: 0.9152\n",
            "Epoch 146/200\n",
            " - 8s - loss: 0.3179 - acc: 0.9150\n",
            "Epoch 147/200\n",
            " - 9s - loss: 0.3157 - acc: 0.9168\n",
            "Epoch 148/200\n",
            " - 9s - loss: 0.3127 - acc: 0.9155\n",
            "Epoch 149/200\n",
            " - 8s - loss: 0.3134 - acc: 0.9139\n",
            "Epoch 150/200\n",
            " - 8s - loss: 0.3045 - acc: 0.9170\n",
            "Epoch 151/200\n",
            " - 8s - loss: 0.3016 - acc: 0.9162\n",
            "Epoch 152/200\n",
            " - 8s - loss: 0.3017 - acc: 0.9162\n",
            "Epoch 153/200\n",
            " - 8s - loss: 0.3039 - acc: 0.9158\n",
            "Epoch 154/200\n",
            " - 8s - loss: 0.3031 - acc: 0.9162\n",
            "Epoch 155/200\n",
            " - 8s - loss: 0.2970 - acc: 0.9155\n",
            "Epoch 156/200\n",
            " - 8s - loss: 0.2964 - acc: 0.9170\n",
            "Epoch 157/200\n",
            " - 9s - loss: 0.2950 - acc: 0.9150\n",
            "Epoch 158/200\n",
            " - 9s - loss: 0.2928 - acc: 0.9157\n",
            "Epoch 159/200\n",
            " - 9s - loss: 0.2908 - acc: 0.9166\n",
            "Epoch 160/200\n",
            " - 9s - loss: 0.2956 - acc: 0.9138\n",
            "Epoch 161/200\n",
            " - 8s - loss: 0.2931 - acc: 0.9179\n",
            "Epoch 162/200\n",
            " - 8s - loss: 0.2946 - acc: 0.9155\n",
            "Epoch 163/200\n",
            " - 8s - loss: 0.2943 - acc: 0.9173\n",
            "Epoch 164/200\n",
            " - 8s - loss: 0.2918 - acc: 0.9170\n",
            "Epoch 165/200\n",
            " - 8s - loss: 0.2891 - acc: 0.9161\n",
            "Epoch 166/200\n",
            " - 9s - loss: 0.2863 - acc: 0.9159\n",
            "Epoch 167/200\n",
            " - 9s - loss: 0.2821 - acc: 0.9171\n",
            "Epoch 168/200\n",
            " - 8s - loss: 0.2825 - acc: 0.9163\n",
            "Epoch 169/200\n",
            " - 8s - loss: 0.2814 - acc: 0.9168\n",
            "Epoch 170/200\n",
            " - 8s - loss: 0.2807 - acc: 0.9167\n",
            "Epoch 171/200\n",
            " - 8s - loss: 0.2861 - acc: 0.9146\n",
            "Epoch 172/200\n",
            " - 8s - loss: 0.2830 - acc: 0.9166\n",
            "Epoch 173/200\n",
            " - 8s - loss: 0.2809 - acc: 0.9154\n",
            "Epoch 174/200\n",
            " - 8s - loss: 0.2813 - acc: 0.9166\n",
            "Epoch 175/200\n",
            " - 8s - loss: 0.2778 - acc: 0.9162\n",
            "Epoch 176/200\n",
            " - 9s - loss: 0.2773 - acc: 0.9164\n",
            "Epoch 177/200\n",
            " - 9s - loss: 0.2754 - acc: 0.9167\n",
            "Epoch 178/200\n",
            " - 8s - loss: 0.2770 - acc: 0.9159\n",
            "Epoch 179/200\n",
            " - 8s - loss: 0.2749 - acc: 0.9167\n",
            "Epoch 180/200\n",
            " - 8s - loss: 0.2762 - acc: 0.9173\n",
            "Epoch 181/200\n",
            " - 8s - loss: 0.2796 - acc: 0.9153\n",
            "Epoch 182/200\n",
            " - 8s - loss: 0.2819 - acc: 0.9149\n",
            "Epoch 183/200\n",
            " - 8s - loss: 0.2965 - acc: 0.9120\n",
            "Epoch 184/200\n",
            " - 8s - loss: 0.3027 - acc: 0.9117\n",
            "Epoch 185/200\n",
            " - 9s - loss: 0.2773 - acc: 0.9161\n",
            "Epoch 186/200\n",
            " - 9s - loss: 0.2730 - acc: 0.9162\n",
            "Epoch 187/200\n",
            " - 8s - loss: 0.2710 - acc: 0.9159\n",
            "Epoch 188/200\n",
            " - 8s - loss: 0.2691 - acc: 0.9163\n",
            "Epoch 189/200\n",
            " - 8s - loss: 0.2694 - acc: 0.9154\n",
            "Epoch 190/200\n",
            " - 8s - loss: 0.2692 - acc: 0.9159\n",
            "Epoch 191/200\n",
            " - 8s - loss: 0.2694 - acc: 0.9164\n",
            "Epoch 192/200\n",
            " - 9s - loss: 0.2691 - acc: 0.9159\n",
            "Epoch 193/200\n",
            " - 9s - loss: 0.2687 - acc: 0.9158\n",
            "Epoch 194/200\n",
            " - 8s - loss: 0.2715 - acc: 0.9146\n",
            "Epoch 195/200\n",
            " - 9s - loss: 0.2684 - acc: 0.9177\n",
            "Epoch 196/200\n",
            " - 10s - loss: 0.2710 - acc: 0.9167\n",
            "Epoch 197/200\n",
            " - 9s - loss: 0.2705 - acc: 0.9168\n",
            "Epoch 198/200\n",
            " - 8s - loss: 0.2681 - acc: 0.9167\n",
            "Epoch 199/200\n",
            " - 8s - loss: 0.2709 - acc: 0.9171\n",
            "Epoch 200/200\n",
            " - 8s - loss: 0.2776 - acc: 0.9129\n"
          ],
          "name": "stdout"
        },
        {
          "output_type": "execute_result",
          "data": {
            "text/plain": [
              "<keras.callbacks.History at 0x7f67b03ff9e8>"
            ]
          },
          "metadata": {
            "tags": []
          },
          "execution_count": 21
        }
      ]
    },
    {
      "cell_type": "code",
      "metadata": {
        "id": "uGytJzmkVcgA",
        "colab_type": "code",
        "colab": {}
      },
      "source": [
        ""
      ],
      "execution_count": 0,
      "outputs": []
    }
  ]
}
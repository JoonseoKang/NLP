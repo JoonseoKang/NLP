{
  "nbformat": 4,
  "nbformat_minor": 0,
  "metadata": {
    "colab": {
      "name": "언어모델.ipynb",
      "version": "0.3.2",
      "provenance": [],
      "include_colab_link": true
    },
    "kernelspec": {
      "name": "python3",
      "display_name": "Python 3"
    },
    "accelerator": "GPU"
  },
  "cells": [
    {
      "cell_type": "markdown",
      "metadata": {
        "id": "view-in-github",
        "colab_type": "text"
      },
      "source": [
        "<a href=\"https://colab.research.google.com/github/Kangjunseo/NLP/blob/master/%EC%96%B8%EC%96%B4%EB%AA%A8%EB%8D%B8.ipynb\" target=\"_parent\"><img src=\"https://colab.research.google.com/assets/colab-badge.svg\" alt=\"Open In Colab\"/></a>"
      ]
    },
    {
      "cell_type": "markdown",
      "metadata": {
        "id": "YCp4EKHNCfn0",
        "colab_type": "text"
      },
      "source": [
        "언어모델: 문장의 확률을 예측  \n",
        "\n",
        "**a. 기계 번역(Machine Translation):**\n",
        "\n",
        "P(나는 버스를 탔다) > P(나는 버스를 태운다)\n",
        "\n",
        "\n",
        ": 언어 모델은 두 문장을 비교하여 좌측의 문장의 확률이 더 높다고 판단합니다.  \n",
        "\n",
        "**b. 오타 교정(Spell Correction)**\n",
        "\n",
        "선생님이 교실로 부리나케\n",
        "P(달려갔다) > P(잘려갔다)\n",
        "\n",
        "\n",
        ": 언어 모델은 두 문장을 비교하여 좌측의 문장의 확률이 더 높다고 판단합니다.\n",
        "\n",
        "**c. 음성 인식(Speech Recognition)**\n",
        "\n",
        "P(나는 메롱을 먹는다) < P(나는 메론을 먹는다)\n",
        "\n",
        "\n",
        ": 언어 모델은 두 문장을 비교하여 우측의 문장의 확률이 더 높다고 판단합니다.\n",
        "\n",
        "언어 모델은 위와 같이 보다 적절한 문장을 선택하는 일에 확률을 사용합니다. "
      ]
    },
    {
      "cell_type": "markdown",
      "metadata": {
        "id": "B_n3ktrQDdF8",
        "colab_type": "text"
      },
      "source": [
        "##N-gram 언어모델\n",
        "n-gram은 n개의 연속적인 단어 나열을 의미  \n",
        "unigrams : an, adorable, little, boy, is, spreading, smiles  \n",
        "bigrams : an adorable, adorable little, little boy, boy is, is spreading, spreading smiles  \n",
        "trigrams : an adorable little, adorable little boy, little boy is, boy is spreading, is spreading smiles  \n",
        "4-grams : an adorable little boy, adorable little boy is, little boy is spreading, boy is spreading smiles  \n",
        "  \n",
        "  n-gram을 통한 언어 모델에서는 다음에 나올 단어의 예측은 오직 n-1개의 단어에만 의존합니다"
      ]
    },
    {
      "cell_type": "code",
      "metadata": {
        "id": "he7ktRvwCNOU",
        "colab_type": "code",
        "colab": {}
      },
      "source": [
        ""
      ],
      "execution_count": 0,
      "outputs": []
    }
  ]
}
{
  "nbformat": 4,
  "nbformat_minor": 0,
  "metadata": {
    "colab": {
      "name": "RNN.ipynb",
      "version": "0.3.2",
      "provenance": [],
      "include_colab_link": true
    },
    "kernelspec": {
      "name": "python3",
      "display_name": "Python 3"
    },
    "accelerator": "GPU"
  },
  "cells": [
    {
      "cell_type": "markdown",
      "metadata": {
        "id": "view-in-github",
        "colab_type": "text"
      },
      "source": [
        "<a href=\"https://colab.research.google.com/github/Kangjunseo/NLP/blob/master/RNN.ipynb\" target=\"_parent\"><img src=\"https://colab.research.google.com/assets/colab-badge.svg\" alt=\"Open In Colab\"/></a>"
      ]
    },
    {
      "cell_type": "code",
      "metadata": {
        "id": "r4mjvgITQ3XS",
        "colab_type": "code",
        "colab": {}
      },
      "source": [
        "!pip install -q keras\n",
        "import keras"
      ],
      "execution_count": 0,
      "outputs": []
    },
    {
      "cell_type": "code",
      "metadata": {
        "id": "qujp7O7XRIS1",
        "colab_type": "code",
        "colab": {}
      },
      "source": [
        "from keras.models import Sequential\n",
        "from keras.layers import SimpleRNN"
      ],
      "execution_count": 0,
      "outputs": []
    },
    {
      "cell_type": "code",
      "metadata": {
        "id": "LQ8KHUPwRM_k",
        "colab_type": "code",
        "colab": {
          "base_uri": "https://localhost:8080/",
          "height": 245
        },
        "outputId": "0726143b-c960-43a4-88e3-8bb1c7317997"
      },
      "source": [
        "model = Sequential()\n",
        "model.add(SimpleRNN(3, input_shape=(2,10)))\n",
        "# model.add(SimpleRNN(3, input_length=2, input_dim=10))와 동일함.\n",
        "model.summary()"
      ],
      "execution_count": 11,
      "outputs": [
        {
          "output_type": "stream",
          "text": [
            "WARNING:tensorflow:From /usr/local/lib/python3.6/dist-packages/tensorflow/python/framework/op_def_library.py:263: colocate_with (from tensorflow.python.framework.ops) is deprecated and will be removed in a future version.\n",
            "Instructions for updating:\n",
            "Colocations handled automatically by placer.\n",
            "_________________________________________________________________\n",
            "Layer (type)                 Output Shape              Param #   \n",
            "=================================================================\n",
            "simple_rnn_1 (SimpleRNN)     (None, 3)                 42        \n",
            "=================================================================\n",
            "Total params: 42\n",
            "Trainable params: 42\n",
            "Non-trainable params: 0\n",
            "_________________________________________________________________\n"
          ],
          "name": "stdout"
        }
      ]
    },
    {
      "cell_type": "code",
      "metadata": {
        "id": "5OEtx9qrRqQa",
        "colab_type": "code",
        "colab": {
          "base_uri": "https://localhost:8080/",
          "height": 173
        },
        "outputId": "d8f7a8d5-efff-4251-9f04-dce2f771559c"
      },
      "source": [
        "model = Sequential()\n",
        "model.add(SimpleRNN(3, batch_input_shape=(8,2,10)))\n",
        "model.summary()"
      ],
      "execution_count": 12,
      "outputs": [
        {
          "output_type": "stream",
          "text": [
            "_________________________________________________________________\n",
            "Layer (type)                 Output Shape              Param #   \n",
            "=================================================================\n",
            "simple_rnn_2 (SimpleRNN)     (8, 3)                    42        \n",
            "=================================================================\n",
            "Total params: 42\n",
            "Trainable params: 42\n",
            "Non-trainable params: 0\n",
            "_________________________________________________________________\n"
          ],
          "name": "stdout"
        }
      ]
    },
    {
      "cell_type": "code",
      "metadata": {
        "id": "Tq2AQdPxRyVB",
        "colab_type": "code",
        "colab": {
          "base_uri": "https://localhost:8080/",
          "height": 173
        },
        "outputId": "59dacc8c-357d-43aa-c667-1d00c4c6a20f"
      },
      "source": [
        "model = Sequential()\n",
        "model.add(SimpleRNN(3, batch_input_shape=(8,2,10), return_sequences=True))\n",
        "model.summary()"
      ],
      "execution_count": 13,
      "outputs": [
        {
          "output_type": "stream",
          "text": [
            "_________________________________________________________________\n",
            "Layer (type)                 Output Shape              Param #   \n",
            "=================================================================\n",
            "simple_rnn_3 (SimpleRNN)     (8, 2, 3)                 42        \n",
            "=================================================================\n",
            "Total params: 42\n",
            "Trainable params: 42\n",
            "Non-trainable params: 0\n",
            "_________________________________________________________________\n"
          ],
          "name": "stdout"
        }
      ]
    },
    {
      "cell_type": "code",
      "metadata": {
        "id": "XhOUXCpFR7j-",
        "colab_type": "code",
        "colab": {}
      },
      "source": [
        "text=\"나랑 점심 먹으러 갈래 메뉴는 햄버거 점심 메뉴 좋지\""
      ],
      "execution_count": 0,
      "outputs": []
    },
    {
      "cell_type": "code",
      "metadata": {
        "id": "ppBQPzV5S3ZH",
        "colab_type": "code",
        "colab": {}
      },
      "source": [
        "from keras_preprocessing.text import Tokenizer\n",
        "t = Tokenizer()\n",
        "t.fit_on_texts([text])\n",
        "encoded = t.texts_to_sequences([text])[0]\n",
        "# [0]을 해주지 않으면 [[contents]]와 같은 리스트 안의 리스트 형태로 저장 됨.\n",
        "# [0]을 해주면 [contents]와 같은 하나의 리스트로 저장됨."
      ],
      "execution_count": 0,
      "outputs": []
    },
    {
      "cell_type": "code",
      "metadata": {
        "id": "FesZXZI5S7WC",
        "colab_type": "code",
        "colab": {
          "base_uri": "https://localhost:8080/",
          "height": 34
        },
        "outputId": "e8f09098-b608-4e0a-81a8-c92be58ffdb4"
      },
      "source": [
        "vocab_size = len(t.word_index) + 1\n",
        "# 케라스 토크나이저의 정수 인코딩은 인덱스가 1부터 시작하지만,\n",
        "# 케라스 원-핫 인코딩에서 배열의 인덱스가 0부터 시작하기 때문에\n",
        "# 배열의 크기를 실제 단어 집합의 크기보다 +1로 생성해야하므로 미리 +1 선언 \n",
        "print('단어 집합의 크기 : %d' % vocab_size)"
      ],
      "execution_count": 16,
      "outputs": [
        {
          "output_type": "stream",
          "text": [
            "단어 집합의 크기 : 9\n"
          ],
          "name": "stdout"
        }
      ]
    },
    {
      "cell_type": "code",
      "metadata": {
        "id": "hSIYLlKDS_Mt",
        "colab_type": "code",
        "colab": {
          "base_uri": "https://localhost:8080/",
          "height": 34
        },
        "outputId": "63c6a3a6-604c-4aa6-c184-32468b69518b"
      },
      "source": [
        "print(t.word_index)"
      ],
      "execution_count": 17,
      "outputs": [
        {
          "output_type": "stream",
          "text": [
            "{'점심': 1, '나랑': 2, '먹으러': 3, '갈래': 4, '메뉴는': 5, '햄버거': 6, '메뉴': 7, '좋지': 8}\n"
          ],
          "name": "stdout"
        }
      ]
    },
    {
      "cell_type": "code",
      "metadata": {
        "id": "GMoGgp7qTB26",
        "colab_type": "code",
        "colab": {
          "base_uri": "https://localhost:8080/",
          "height": 34
        },
        "outputId": "e9496267-0458-4524-f7dc-2faecff625ec"
      },
      "source": [
        "sequences = list()\n",
        "for c in range(1, len(encoded)):\n",
        "    sequence = encoded[c-1:c+1] # 단어를 두개씩 묶어서 저장해준다. 이는 X와 Y의 관계를 구성하기 위함이다.\n",
        "    sequences.append(sequence)\n",
        "print('단어 묶음의 개수: %d' % len(sequences))"
      ],
      "execution_count": 18,
      "outputs": [
        {
          "output_type": "stream",
          "text": [
            "단어 묶음의 개수: 8\n"
          ],
          "name": "stdout"
        }
      ]
    },
    {
      "cell_type": "code",
      "metadata": {
        "id": "3oDtxUhlTHhN",
        "colab_type": "code",
        "colab": {
          "base_uri": "https://localhost:8080/",
          "height": 34
        },
        "outputId": "4c847dba-8360-42fb-f416-db168c146fe5"
      },
      "source": [
        "print(sequences)"
      ],
      "execution_count": 19,
      "outputs": [
        {
          "output_type": "stream",
          "text": [
            "[[2, 1], [1, 3], [3, 4], [4, 5], [5, 6], [6, 1], [1, 7], [7, 8]]\n"
          ],
          "name": "stdout"
        }
      ]
    },
    {
      "cell_type": "code",
      "metadata": {
        "id": "xgT0NGbwTKXt",
        "colab_type": "code",
        "colab": {}
      },
      "source": [
        "import numpy as np\n",
        "X, y = zip(*sequences) # 첫번째 열이 X, 두번째 열이 y가 됨.\n",
        "X=np.array(X) # 타입을 배열로 변환\n",
        "y=np.array(y) # 타입을 배열로 변환"
      ],
      "execution_count": 0,
      "outputs": []
    },
    {
      "cell_type": "code",
      "metadata": {
        "id": "5jrci9UKTUeG",
        "colab_type": "code",
        "colab": {
          "base_uri": "https://localhost:8080/",
          "height": 156
        },
        "outputId": "16006676-01e1-4a16-ccea-38c34adf04ee"
      },
      "source": [
        "from keras.utils import to_categorical\n",
        "y = to_categorical(y, num_classes=vocab_size) # 원 핫 인코딩\n",
        "print(y)"
      ],
      "execution_count": 21,
      "outputs": [
        {
          "output_type": "stream",
          "text": [
            "[[0. 1. 0. 0. 0. 0. 0. 0. 0.]\n",
            " [0. 0. 0. 1. 0. 0. 0. 0. 0.]\n",
            " [0. 0. 0. 0. 1. 0. 0. 0. 0.]\n",
            " [0. 0. 0. 0. 0. 1. 0. 0. 0.]\n",
            " [0. 0. 0. 0. 0. 0. 1. 0. 0.]\n",
            " [0. 1. 0. 0. 0. 0. 0. 0. 0.]\n",
            " [0. 0. 0. 0. 0. 0. 0. 1. 0.]\n",
            " [0. 0. 0. 0. 0. 0. 0. 0. 1.]]\n"
          ],
          "name": "stdout"
        }
      ]
    },
    {
      "cell_type": "code",
      "metadata": {
        "id": "cF4KcfdDTYw5",
        "colab_type": "code",
        "colab": {}
      },
      "source": [
        "from keras.layers import Embedding, Dense, SimpleRNN\n",
        "from keras.models import Sequential\n",
        "model = Sequential()\n",
        "model.add(Embedding(vocab_size, 9, input_length=1))\n",
        "# 단어 집합의 크기는 9. 임베딩 벡터의 크기는 9. 각 sample의 길이는 단어 한 개이므로 길이는 1.\n",
        "model.add(SimpleRNN(9))\n",
        "# RNN의 결과값으로 나오는 벡터의 차원 또한 9로 한다. 더 크게 해주어도 상관은 없음.\n",
        "model.add(Dense(vocab_size, activation='softmax'))\n",
        "# 출력층을 지나서 나오는 벡터의 크기도 9로 한다."
      ],
      "execution_count": 0,
      "outputs": []
    },
    {
      "cell_type": "code",
      "metadata": {
        "id": "_cXWLvFlTik_",
        "colab_type": "code",
        "colab": {}
      },
      "source": [
        "model.compile(loss='categorical_crossentropy', optimizer='adam', metrics=['accuracy'])\n",
        "model.fit(X, y, epochs=500, verbose=2)"
      ],
      "execution_count": 0,
      "outputs": []
    },
    {
      "cell_type": "code",
      "metadata": {
        "id": "DBe_qYI_TnHc",
        "colab_type": "code",
        "colab": {
          "base_uri": "https://localhost:8080/",
          "height": 34
        },
        "outputId": "59ae6aa3-7b91-4560-9fa0-f2bed6372a96"
      },
      "source": [
        "print(t.word_index.items())"
      ],
      "execution_count": 24,
      "outputs": [
        {
          "output_type": "stream",
          "text": [
            "dict_items([('점심', 1), ('나랑', 2), ('먹으러', 3), ('갈래', 4), ('메뉴는', 5), ('햄버거', 6), ('메뉴', 7), ('좋지', 8)])\n"
          ],
          "name": "stdout"
        }
      ]
    },
    {
      "cell_type": "code",
      "metadata": {
        "id": "kLCO3PJfT2DT",
        "colab_type": "code",
        "colab": {}
      },
      "source": [
        "def predict_next_word(model, t, current_word): # 모델, 토크나이저, 현재 단어를 받아온다.\n",
        "  encoded = t.texts_to_sequences([current_word])[0] # 현재 단어에 대한 정수 인코딩\n",
        "  encoded = np.array(encoded) # 현재 단어에 대한 정수 인코딩\n",
        "  result = model.predict_classes(encoded, verbose=0)\n",
        "  # 입력한 X(현재 단어)에 대해서 Y를 예측하고 Y(예측한 단어)를 result에 저장.\n",
        "  for word, index in t.word_index.items(): # 위에서 실습한 것처럼 단어와 인덱스를 리턴.\n",
        "    if index == result: # 만약 예측한 단어와 인덱스와 동일한 단어가 있다면\n",
        "        return word # 그 단어를 출력"
      ],
      "execution_count": 0,
      "outputs": []
    },
    {
      "cell_type": "code",
      "metadata": {
        "id": "SDsr8MiAUC2-",
        "colab_type": "code",
        "colab": {
          "base_uri": "https://localhost:8080/",
          "height": 69
        },
        "outputId": "8b00907c-701e-4908-cb56-c4f3f75f3f37"
      },
      "source": [
        "print(predict_next_word(model, t, '먹으러'))\n",
        "print(predict_next_word(model, t, '점심'))\n",
        "print(predict_next_word(model, t, '메뉴'))"
      ],
      "execution_count": 29,
      "outputs": [
        {
          "output_type": "stream",
          "text": [
            "갈래\n",
            "먹으러\n",
            "좋지\n"
          ],
          "name": "stdout"
        }
      ]
    },
    {
      "cell_type": "code",
      "metadata": {
        "id": "1nVaj9s9UErt",
        "colab_type": "code",
        "colab": {}
      },
      "source": [
        "def sentence_generation(model, t, current_word, n): # 모델, 토크나이저, 현재 단어, 반복할 횟수\n",
        "    init_word = current_word # 처음 들어온 단어도 마지막에 같이 출력하기위해 저장\n",
        "    sentence = ''\n",
        "    for _ in range(n): # n번 반복\n",
        "        encoded = t.texts_to_sequences([current_word])[0] # 현재 단어에 대한 정수 인코딩\n",
        "        encoded = np.array(encoded) # 현재 단어에 대한 정수 인코딩\n",
        "        result = model.predict_classes(encoded, verbose=0)\n",
        "    # 입력한 X(현재 단어)에 대해서 Y를 예측하고 Y(예측한 단어)를 result에 저장.\n",
        "        for word, index in t.word_index.items(): \n",
        "            if index == result: # 만약 예측한 단어와 인덱스와 동일한 단어가 있다면\n",
        "                break # 해당 단어가 예측 단어이므로 break\n",
        "        current_word = word # 예측 단어를 현재 단어로 변경\n",
        "        sentence = sentence + ' ' + word # 예측 단어를 문장에 저장\n",
        "    # for문이므로 이 행동을 다시 반복\n",
        "    sentence = init_word + sentence\n",
        "    return sentence"
      ],
      "execution_count": 0,
      "outputs": []
    },
    {
      "cell_type": "code",
      "metadata": {
        "id": "QQ6nIvOHUV7m",
        "colab_type": "code",
        "colab": {
          "base_uri": "https://localhost:8080/",
          "height": 34
        },
        "outputId": "477b5d71-2c58-48ba-a332-365c516652d7"
      },
      "source": [
        "print(sentence_generation(model, t, '먹으러', 6))"
      ],
      "execution_count": 31,
      "outputs": [
        {
          "output_type": "stream",
          "text": [
            "먹으러 갈래 메뉴는 햄버거 점심 먹으러 갈래\n"
          ],
          "name": "stdout"
        }
      ]
    },
    {
      "cell_type": "markdown",
      "metadata": {
        "id": "hpNMBEw_UifU",
        "colab_type": "text"
      },
      "source": [
        "##문맥반영"
      ]
    },
    {
      "cell_type": "code",
      "metadata": {
        "id": "qNyQXVbNUX8H",
        "colab_type": "code",
        "colab": {}
      },
      "source": [
        "text=\"\"\"경마장에 있는 말이 뛰고 있다\\n\n",
        "그의 말이 법이다\\n\n",
        "가는 말이 고와야 오는 말이 곱다\\n\"\"\""
      ],
      "execution_count": 0,
      "outputs": []
    },
    {
      "cell_type": "code",
      "metadata": {
        "id": "Wl8kaRqUUrXb",
        "colab_type": "code",
        "colab": {}
      },
      "source": [
        "from keras_preprocessing.text import Tokenizer\n",
        "t = Tokenizer()\n",
        "t.fit_on_texts([text])\n",
        "encoded = t.texts_to_sequences([text])[0]"
      ],
      "execution_count": 0,
      "outputs": []
    },
    {
      "cell_type": "code",
      "metadata": {
        "id": "LLFB6LrdUtYE",
        "colab_type": "code",
        "colab": {
          "base_uri": "https://localhost:8080/",
          "height": 34
        },
        "outputId": "7c66c1d0-d12b-4671-91b4-63c8c0c7ff83"
      },
      "source": [
        "vocab_size = len(t.word_index) + 1\n",
        "# 케라스 토크나이저의 정수 인코딩은 인덱스가 1부터 시작하지만,\n",
        "# 케라스 원-핫 인코딩에서 배열의 인덱스가 0부터 시작하기 때문에\n",
        "# 배열의 크기를 실제 단어 집합의 크기보다 +1로 생성해야하므로 미리 +1 선언 \n",
        "print('단어 집합의 크기 : %d' % vocab_size)"
      ],
      "execution_count": 35,
      "outputs": [
        {
          "output_type": "stream",
          "text": [
            "단어 집합의 크기 : 12\n"
          ],
          "name": "stdout"
        }
      ]
    },
    {
      "cell_type": "code",
      "metadata": {
        "id": "kOVT1AwIUxDW",
        "colab_type": "code",
        "colab": {
          "base_uri": "https://localhost:8080/",
          "height": 34
        },
        "outputId": "98c89812-cc7b-4615-b090-554fb06850bd"
      },
      "source": [
        "print(t.word_index)"
      ],
      "execution_count": 36,
      "outputs": [
        {
          "output_type": "stream",
          "text": [
            "{'말이': 1, '경마장에': 2, '있는': 3, '뛰고': 4, '있다': 5, '그의': 6, '법이다': 7, '가는': 8, '고와야': 9, '오는': 10, '곱다': 11}\n"
          ],
          "name": "stdout"
        }
      ]
    },
    {
      "cell_type": "code",
      "metadata": {
        "id": "zrZSU5V-UzBz",
        "colab_type": "code",
        "colab": {
          "base_uri": "https://localhost:8080/",
          "height": 34
        },
        "outputId": "bd29af86-0456-41de-aabe-850ea2914aad"
      },
      "source": [
        "sequences = list()\n",
        "for line in text.split('\\n'): # Wn을 기준으로 문장 토큰화\n",
        "    encoded = t.texts_to_sequences([line])[0]\n",
        "    for i in range(1, len(encoded)):\n",
        "        sequence = encoded[:i+1]\n",
        "        sequences.append(sequence)\n",
        "\n",
        "print('훈련 데이터의 개수: %d' % len(sequences))"
      ],
      "execution_count": 37,
      "outputs": [
        {
          "output_type": "stream",
          "text": [
            "훈련 데이터의 개수: 11\n"
          ],
          "name": "stdout"
        }
      ]
    },
    {
      "cell_type": "code",
      "metadata": {
        "id": "awzGx0maU5qu",
        "colab_type": "code",
        "colab": {
          "base_uri": "https://localhost:8080/",
          "height": 34
        },
        "outputId": "0dc58755-0635-4c11-ec16-396213af06d8"
      },
      "source": [
        "print(sequences)"
      ],
      "execution_count": 38,
      "outputs": [
        {
          "output_type": "stream",
          "text": [
            "[[2, 3], [2, 3, 1], [2, 3, 1, 4], [2, 3, 1, 4, 5], [6, 1], [6, 1, 7], [8, 1], [8, 1, 9], [8, 1, 9, 10], [8, 1, 9, 10, 1], [8, 1, 9, 10, 1, 11]]\n"
          ],
          "name": "stdout"
        }
      ]
    },
    {
      "cell_type": "markdown",
      "metadata": {
        "id": "MsqnjGU0VEvH",
        "colab_type": "text"
      },
      "source": [
        "[2, 3]은 [경마장에, 있는]에 해당되며 [2, 3, 1]은 [경마장에, 있는, 말이]"
      ]
    },
    {
      "cell_type": "code",
      "metadata": {
        "id": "Xf_xPIueU8LT",
        "colab_type": "code",
        "colab": {}
      },
      "source": [
        "from keras.preprocessing.sequence import pad_sequences\n",
        "sequences = pad_sequences(sequences, maxlen=6, padding='pre')"
      ],
      "execution_count": 0,
      "outputs": []
    },
    {
      "cell_type": "code",
      "metadata": {
        "id": "-dPk0KgqVOvg",
        "colab_type": "code",
        "colab": {
          "base_uri": "https://localhost:8080/",
          "height": 208
        },
        "outputId": "a37c02d0-21fc-48ce-c35f-2acc3b9040a9"
      },
      "source": [
        "print(sequences)"
      ],
      "execution_count": 40,
      "outputs": [
        {
          "output_type": "stream",
          "text": [
            "[[ 0  0  0  0  2  3]\n",
            " [ 0  0  0  2  3  1]\n",
            " [ 0  0  2  3  1  4]\n",
            " [ 0  2  3  1  4  5]\n",
            " [ 0  0  0  0  6  1]\n",
            " [ 0  0  0  6  1  7]\n",
            " [ 0  0  0  0  8  1]\n",
            " [ 0  0  0  8  1  9]\n",
            " [ 0  0  8  1  9 10]\n",
            " [ 0  8  1  9 10  1]\n",
            " [ 8  1  9 10  1 11]]\n"
          ],
          "name": "stdout"
        }
      ]
    },
    {
      "cell_type": "code",
      "metadata": {
        "id": "UVb3SGD0VQx1",
        "colab_type": "code",
        "colab": {
          "base_uri": "https://localhost:8080/",
          "height": 208
        },
        "outputId": "0320950e-825d-482b-ad29-ef57fc394636"
      },
      "source": [
        "import numpy as np\n",
        "sequences = np.array(sequences)\n",
        "\n",
        "X = sequences[:,:-1]\n",
        "y = sequences[:,-1]\n",
        "# 리스트의 마지막 열을 제외하고 저장한 것은 X\n",
        "# 리스트의 마지막 열만 저장한 것은 y\n",
        "print(X,y)"
      ],
      "execution_count": 42,
      "outputs": [
        {
          "output_type": "stream",
          "text": [
            "[[ 0  0  0  0  2]\n",
            " [ 0  0  0  2  3]\n",
            " [ 0  0  2  3  1]\n",
            " [ 0  2  3  1  4]\n",
            " [ 0  0  0  0  6]\n",
            " [ 0  0  0  6  1]\n",
            " [ 0  0  0  0  8]\n",
            " [ 0  0  0  8  1]\n",
            " [ 0  0  8  1  9]\n",
            " [ 0  8  1  9 10]\n",
            " [ 8  1  9 10  1]] [ 3  1  4  5  1  7  1  9 10  1 11]\n"
          ],
          "name": "stdout"
        }
      ]
    },
    {
      "cell_type": "code",
      "metadata": {
        "id": "XYLQcSfUVZUF",
        "colab_type": "code",
        "colab": {}
      },
      "source": [
        "from keras.utils import to_categorical\n",
        "y = to_categorical(y, num_classes=vocab_size)"
      ],
      "execution_count": 0,
      "outputs": []
    },
    {
      "cell_type": "code",
      "metadata": {
        "id": "mBsIxl0rVoIO",
        "colab_type": "code",
        "colab": {
          "base_uri": "https://localhost:8080/",
          "height": 208
        },
        "outputId": "71e71ff8-748c-4afb-d283-7da93350ed7b"
      },
      "source": [
        "print(y)"
      ],
      "execution_count": 44,
      "outputs": [
        {
          "output_type": "stream",
          "text": [
            "[[0. 0. 0. 1. 0. 0. 0. 0. 0. 0. 0. 0.]\n",
            " [0. 1. 0. 0. 0. 0. 0. 0. 0. 0. 0. 0.]\n",
            " [0. 0. 0. 0. 1. 0. 0. 0. 0. 0. 0. 0.]\n",
            " [0. 0. 0. 0. 0. 1. 0. 0. 0. 0. 0. 0.]\n",
            " [0. 1. 0. 0. 0. 0. 0. 0. 0. 0. 0. 0.]\n",
            " [0. 0. 0. 0. 0. 0. 0. 1. 0. 0. 0. 0.]\n",
            " [0. 1. 0. 0. 0. 0. 0. 0. 0. 0. 0. 0.]\n",
            " [0. 0. 0. 0. 0. 0. 0. 0. 0. 1. 0. 0.]\n",
            " [0. 0. 0. 0. 0. 0. 0. 0. 0. 0. 1. 0.]\n",
            " [0. 1. 0. 0. 0. 0. 0. 0. 0. 0. 0. 0.]\n",
            " [0. 0. 0. 0. 0. 0. 0. 0. 0. 0. 0. 1.]]\n"
          ],
          "name": "stdout"
        }
      ]
    },
    {
      "cell_type": "code",
      "metadata": {
        "id": "4Vq6zkrIVq8T",
        "colab_type": "code",
        "colab": {
          "base_uri": "https://localhost:8080/",
          "height": 6981
        },
        "outputId": "516269fa-b76d-4ff1-ee22-cb96f12543a7"
      },
      "source": [
        "from keras.layers import Embedding, Dense, SimpleRNN\n",
        "from keras.models import Sequential\n",
        "\n",
        "model = Sequential()\n",
        "model.add(Embedding(vocab_size, 10, input_length=5)) # y를 제거하였으므로 이제 X의 길이는 5\n",
        "model.add(SimpleRNN(32))\n",
        "model.add(Dense(vocab_size, activation='softmax'))\n",
        "model.compile(loss='categorical_crossentropy', optimizer='adam', metrics=['accuracy'])\n",
        "model.fit(X, y, epochs=200, verbose=2)"
      ],
      "execution_count": 45,
      "outputs": [
        {
          "output_type": "stream",
          "text": [
            "Epoch 1/200\n",
            " - 0s - loss: 2.5126 - acc: 0.0000e+00\n",
            "Epoch 2/200\n",
            " - 0s - loss: 2.4974 - acc: 0.0000e+00\n",
            "Epoch 3/200\n",
            " - 0s - loss: 2.4827 - acc: 0.0909\n",
            "Epoch 4/200\n",
            " - 0s - loss: 2.4685 - acc: 0.0909\n",
            "Epoch 5/200\n",
            " - 0s - loss: 2.4546 - acc: 0.0909\n",
            "Epoch 6/200\n",
            " - 0s - loss: 2.4408 - acc: 0.0909\n",
            "Epoch 7/200\n",
            " - 0s - loss: 2.4270 - acc: 0.2727\n",
            "Epoch 8/200\n",
            " - 0s - loss: 2.4131 - acc: 0.4545\n",
            "Epoch 9/200\n",
            " - 0s - loss: 2.3989 - acc: 0.4545\n",
            "Epoch 10/200\n",
            " - 0s - loss: 2.3844 - acc: 0.4545\n",
            "Epoch 11/200\n",
            " - 0s - loss: 2.3695 - acc: 0.4545\n",
            "Epoch 12/200\n",
            " - 0s - loss: 2.3541 - acc: 0.4545\n",
            "Epoch 13/200\n",
            " - 0s - loss: 2.3380 - acc: 0.4545\n",
            "Epoch 14/200\n",
            " - 0s - loss: 2.3212 - acc: 0.4545\n",
            "Epoch 15/200\n",
            " - 0s - loss: 2.3037 - acc: 0.4545\n",
            "Epoch 16/200\n",
            " - 0s - loss: 2.2854 - acc: 0.4545\n",
            "Epoch 17/200\n",
            " - 0s - loss: 2.2661 - acc: 0.4545\n",
            "Epoch 18/200\n",
            " - 0s - loss: 2.2460 - acc: 0.4545\n",
            "Epoch 19/200\n",
            " - 0s - loss: 2.2250 - acc: 0.4545\n",
            "Epoch 20/200\n",
            " - 0s - loss: 2.2029 - acc: 0.4545\n",
            "Epoch 21/200\n",
            " - 0s - loss: 2.1800 - acc: 0.4545\n",
            "Epoch 22/200\n",
            " - 0s - loss: 2.1561 - acc: 0.4545\n",
            "Epoch 23/200\n",
            " - 0s - loss: 2.1315 - acc: 0.4545\n",
            "Epoch 24/200\n",
            " - 0s - loss: 2.1061 - acc: 0.4545\n",
            "Epoch 25/200\n",
            " - 0s - loss: 2.0801 - acc: 0.4545\n",
            "Epoch 26/200\n",
            " - 0s - loss: 2.0537 - acc: 0.4545\n",
            "Epoch 27/200\n",
            " - 0s - loss: 2.0271 - acc: 0.4545\n",
            "Epoch 28/200\n",
            " - 0s - loss: 2.0007 - acc: 0.4545\n",
            "Epoch 29/200\n",
            " - 0s - loss: 1.9747 - acc: 0.4545\n",
            "Epoch 30/200\n",
            " - 0s - loss: 1.9494 - acc: 0.4545\n",
            "Epoch 31/200\n",
            " - 0s - loss: 1.9252 - acc: 0.4545\n",
            "Epoch 32/200\n",
            " - 0s - loss: 1.9025 - acc: 0.4545\n",
            "Epoch 33/200\n",
            " - 0s - loss: 1.8814 - acc: 0.3636\n",
            "Epoch 34/200\n",
            " - 0s - loss: 1.8621 - acc: 0.3636\n",
            "Epoch 35/200\n",
            " - 0s - loss: 1.8447 - acc: 0.3636\n",
            "Epoch 36/200\n",
            " - 0s - loss: 1.8289 - acc: 0.3636\n",
            "Epoch 37/200\n",
            " - 0s - loss: 1.8144 - acc: 0.3636\n",
            "Epoch 38/200\n",
            " - 0s - loss: 1.8009 - acc: 0.3636\n",
            "Epoch 39/200\n",
            " - 0s - loss: 1.7877 - acc: 0.3636\n",
            "Epoch 40/200\n",
            " - 0s - loss: 1.7745 - acc: 0.4545\n",
            "Epoch 41/200\n",
            " - 0s - loss: 1.7610 - acc: 0.4545\n",
            "Epoch 42/200\n",
            " - 0s - loss: 1.7467 - acc: 0.4545\n",
            "Epoch 43/200\n",
            " - 0s - loss: 1.7318 - acc: 0.4545\n",
            "Epoch 44/200\n",
            " - 0s - loss: 1.7161 - acc: 0.4545\n",
            "Epoch 45/200\n",
            " - 0s - loss: 1.6997 - acc: 0.4545\n",
            "Epoch 46/200\n",
            " - 0s - loss: 1.6829 - acc: 0.4545\n",
            "Epoch 47/200\n",
            " - 0s - loss: 1.6656 - acc: 0.4545\n",
            "Epoch 48/200\n",
            " - 0s - loss: 1.6481 - acc: 0.4545\n",
            "Epoch 49/200\n",
            " - 0s - loss: 1.6305 - acc: 0.4545\n",
            "Epoch 50/200\n",
            " - 0s - loss: 1.6127 - acc: 0.4545\n",
            "Epoch 51/200\n",
            " - 0s - loss: 1.5948 - acc: 0.4545\n",
            "Epoch 52/200\n",
            " - 0s - loss: 1.5768 - acc: 0.4545\n",
            "Epoch 53/200\n",
            " - 0s - loss: 1.5588 - acc: 0.4545\n",
            "Epoch 54/200\n",
            " - 0s - loss: 1.5406 - acc: 0.4545\n",
            "Epoch 55/200\n",
            " - 0s - loss: 1.5224 - acc: 0.4545\n",
            "Epoch 56/200\n",
            " - 0s - loss: 1.5040 - acc: 0.4545\n",
            "Epoch 57/200\n",
            " - 0s - loss: 1.4856 - acc: 0.4545\n",
            "Epoch 58/200\n",
            " - 0s - loss: 1.4671 - acc: 0.4545\n",
            "Epoch 59/200\n",
            " - 0s - loss: 1.4485 - acc: 0.4545\n",
            "Epoch 60/200\n",
            " - 0s - loss: 1.4299 - acc: 0.4545\n",
            "Epoch 61/200\n",
            " - 0s - loss: 1.4113 - acc: 0.4545\n",
            "Epoch 62/200\n",
            " - 0s - loss: 1.3927 - acc: 0.4545\n",
            "Epoch 63/200\n",
            " - 0s - loss: 1.3742 - acc: 0.4545\n",
            "Epoch 64/200\n",
            " - 0s - loss: 1.3557 - acc: 0.4545\n",
            "Epoch 65/200\n",
            " - 0s - loss: 1.3373 - acc: 0.4545\n",
            "Epoch 66/200\n",
            " - 0s - loss: 1.3190 - acc: 0.4545\n",
            "Epoch 67/200\n",
            " - 0s - loss: 1.3007 - acc: 0.5455\n",
            "Epoch 68/200\n",
            " - 0s - loss: 1.2826 - acc: 0.5455\n",
            "Epoch 69/200\n",
            " - 0s - loss: 1.2646 - acc: 0.5455\n",
            "Epoch 70/200\n",
            " - 0s - loss: 1.2466 - acc: 0.6364\n",
            "Epoch 71/200\n",
            " - 0s - loss: 1.2288 - acc: 0.6364\n",
            "Epoch 72/200\n",
            " - 0s - loss: 1.2111 - acc: 0.6364\n",
            "Epoch 73/200\n",
            " - 0s - loss: 1.1935 - acc: 0.6364\n",
            "Epoch 74/200\n",
            " - 0s - loss: 1.1760 - acc: 0.6364\n",
            "Epoch 75/200\n",
            " - 0s - loss: 1.1587 - acc: 0.6364\n",
            "Epoch 76/200\n",
            " - 0s - loss: 1.1414 - acc: 0.6364\n",
            "Epoch 77/200\n",
            " - 0s - loss: 1.1243 - acc: 0.6364\n",
            "Epoch 78/200\n",
            " - 0s - loss: 1.1074 - acc: 0.6364\n",
            "Epoch 79/200\n",
            " - 0s - loss: 1.0905 - acc: 0.6364\n",
            "Epoch 80/200\n",
            " - 0s - loss: 1.0738 - acc: 0.6364\n",
            "Epoch 81/200\n",
            " - 0s - loss: 1.0571 - acc: 0.6364\n",
            "Epoch 82/200\n",
            " - 0s - loss: 1.0407 - acc: 0.6364\n",
            "Epoch 83/200\n",
            " - 0s - loss: 1.0243 - acc: 0.6364\n",
            "Epoch 84/200\n",
            " - 0s - loss: 1.0081 - acc: 0.7273\n",
            "Epoch 85/200\n",
            " - 0s - loss: 0.9920 - acc: 0.7273\n",
            "Epoch 86/200\n",
            " - 0s - loss: 0.9761 - acc: 0.7273\n",
            "Epoch 87/200\n",
            " - 0s - loss: 0.9603 - acc: 0.7273\n",
            "Epoch 88/200\n",
            " - 0s - loss: 0.9447 - acc: 0.7273\n",
            "Epoch 89/200\n",
            " - 0s - loss: 0.9293 - acc: 0.7273\n",
            "Epoch 90/200\n",
            " - 0s - loss: 0.9140 - acc: 0.7273\n",
            "Epoch 91/200\n",
            " - 0s - loss: 0.8989 - acc: 0.7273\n",
            "Epoch 92/200\n",
            " - 0s - loss: 0.8840 - acc: 0.7273\n",
            "Epoch 93/200\n",
            " - 0s - loss: 0.8693 - acc: 0.7273\n",
            "Epoch 94/200\n",
            " - 0s - loss: 0.8548 - acc: 0.7273\n",
            "Epoch 95/200\n",
            " - 0s - loss: 0.8405 - acc: 0.7273\n",
            "Epoch 96/200\n",
            " - 0s - loss: 0.8263 - acc: 0.7273\n",
            "Epoch 97/200\n",
            " - 0s - loss: 0.8124 - acc: 0.7273\n",
            "Epoch 98/200\n",
            " - 0s - loss: 0.7987 - acc: 0.7273\n",
            "Epoch 99/200\n",
            " - 0s - loss: 0.7852 - acc: 0.7273\n",
            "Epoch 100/200\n",
            " - 0s - loss: 0.7719 - acc: 0.7273\n",
            "Epoch 101/200\n",
            " - 0s - loss: 0.7588 - acc: 0.7273\n",
            "Epoch 102/200\n",
            " - 0s - loss: 0.7459 - acc: 0.7273\n",
            "Epoch 103/200\n",
            " - 0s - loss: 0.7332 - acc: 0.7273\n",
            "Epoch 104/200\n",
            " - 0s - loss: 0.7207 - acc: 0.7273\n",
            "Epoch 105/200\n",
            " - 0s - loss: 0.7084 - acc: 0.7273\n",
            "Epoch 106/200\n",
            " - 0s - loss: 0.6962 - acc: 0.7273\n",
            "Epoch 107/200\n",
            " - 0s - loss: 0.6843 - acc: 0.7273\n",
            "Epoch 108/200\n",
            " - 0s - loss: 0.6725 - acc: 0.8182\n",
            "Epoch 109/200\n",
            " - 0s - loss: 0.6609 - acc: 0.8182\n",
            "Epoch 110/200\n",
            " - 0s - loss: 0.6494 - acc: 0.8182\n",
            "Epoch 111/200\n",
            " - 0s - loss: 0.6381 - acc: 0.8182\n",
            "Epoch 112/200\n",
            " - 0s - loss: 0.6269 - acc: 0.8182\n",
            "Epoch 113/200\n",
            " - 0s - loss: 0.6158 - acc: 0.8182\n",
            "Epoch 114/200\n",
            " - 0s - loss: 0.6049 - acc: 0.8182\n",
            "Epoch 115/200\n",
            " - 0s - loss: 0.5941 - acc: 0.8182\n",
            "Epoch 116/200\n",
            " - 0s - loss: 0.5834 - acc: 0.8182\n",
            "Epoch 117/200\n",
            " - 0s - loss: 0.5728 - acc: 0.8182\n",
            "Epoch 118/200\n",
            " - 0s - loss: 0.5623 - acc: 0.8182\n",
            "Epoch 119/200\n",
            " - 0s - loss: 0.5519 - acc: 0.8182\n",
            "Epoch 120/200\n",
            " - 0s - loss: 0.5417 - acc: 0.8182\n",
            "Epoch 121/200\n",
            " - 0s - loss: 0.5315 - acc: 0.8182\n",
            "Epoch 122/200\n",
            " - 0s - loss: 0.5214 - acc: 0.8182\n",
            "Epoch 123/200\n",
            " - 0s - loss: 0.5115 - acc: 0.8182\n",
            "Epoch 124/200\n",
            " - 0s - loss: 0.5016 - acc: 0.8182\n",
            "Epoch 125/200\n",
            " - 0s - loss: 0.4919 - acc: 0.8182\n",
            "Epoch 126/200\n",
            " - 0s - loss: 0.4822 - acc: 0.8182\n",
            "Epoch 127/200\n",
            " - 0s - loss: 0.4727 - acc: 0.8182\n",
            "Epoch 128/200\n",
            " - 0s - loss: 0.4632 - acc: 0.9091\n",
            "Epoch 129/200\n",
            " - 0s - loss: 0.4539 - acc: 0.9091\n",
            "Epoch 130/200\n",
            " - 0s - loss: 0.4447 - acc: 0.9091\n",
            "Epoch 131/200\n",
            " - 0s - loss: 0.4356 - acc: 0.9091\n",
            "Epoch 132/200\n",
            " - 0s - loss: 0.4266 - acc: 0.9091\n",
            "Epoch 133/200\n",
            " - 0s - loss: 0.4178 - acc: 0.9091\n",
            "Epoch 134/200\n",
            " - 0s - loss: 0.4090 - acc: 0.9091\n",
            "Epoch 135/200\n",
            " - 0s - loss: 0.4004 - acc: 0.9091\n",
            "Epoch 136/200\n",
            " - 0s - loss: 0.3919 - acc: 0.9091\n",
            "Epoch 137/200\n",
            " - 0s - loss: 0.3836 - acc: 0.9091\n",
            "Epoch 138/200\n",
            " - 0s - loss: 0.3753 - acc: 0.9091\n",
            "Epoch 139/200\n",
            " - 0s - loss: 0.3672 - acc: 0.9091\n",
            "Epoch 140/200\n",
            " - 0s - loss: 0.3593 - acc: 0.9091\n",
            "Epoch 141/200\n",
            " - 0s - loss: 0.3515 - acc: 0.9091\n",
            "Epoch 142/200\n",
            " - 0s - loss: 0.3438 - acc: 0.9091\n",
            "Epoch 143/200\n",
            " - 0s - loss: 0.3362 - acc: 0.9091\n",
            "Epoch 144/200\n",
            " - 0s - loss: 0.3288 - acc: 0.9091\n",
            "Epoch 145/200\n",
            " - 0s - loss: 0.3215 - acc: 0.9091\n",
            "Epoch 146/200\n",
            " - 0s - loss: 0.3144 - acc: 0.9091\n",
            "Epoch 147/200\n",
            " - 0s - loss: 0.3074 - acc: 0.9091\n",
            "Epoch 148/200\n",
            " - 0s - loss: 0.3006 - acc: 0.9091\n",
            "Epoch 149/200\n",
            " - 0s - loss: 0.2939 - acc: 0.9091\n",
            "Epoch 150/200\n",
            " - 0s - loss: 0.2873 - acc: 0.9091\n",
            "Epoch 151/200\n",
            " - 0s - loss: 0.2809 - acc: 0.9091\n",
            "Epoch 152/200\n",
            " - 0s - loss: 0.2747 - acc: 0.9091\n",
            "Epoch 153/200\n",
            " - 0s - loss: 0.2685 - acc: 1.0000\n",
            "Epoch 154/200\n",
            " - 0s - loss: 0.2625 - acc: 1.0000\n",
            "Epoch 155/200\n",
            " - 0s - loss: 0.2566 - acc: 1.0000\n",
            "Epoch 156/200\n",
            " - 0s - loss: 0.2509 - acc: 1.0000\n",
            "Epoch 157/200\n",
            " - 0s - loss: 0.2453 - acc: 1.0000\n",
            "Epoch 158/200\n",
            " - 0s - loss: 0.2399 - acc: 1.0000\n",
            "Epoch 159/200\n",
            " - 0s - loss: 0.2345 - acc: 1.0000\n",
            "Epoch 160/200\n",
            " - 0s - loss: 0.2293 - acc: 1.0000\n",
            "Epoch 161/200\n",
            " - 0s - loss: 0.2242 - acc: 1.0000\n",
            "Epoch 162/200\n",
            " - 0s - loss: 0.2193 - acc: 1.0000\n",
            "Epoch 163/200\n",
            " - 0s - loss: 0.2144 - acc: 1.0000\n",
            "Epoch 164/200\n",
            " - 0s - loss: 0.2097 - acc: 1.0000\n",
            "Epoch 165/200\n",
            " - 0s - loss: 0.2051 - acc: 1.0000\n",
            "Epoch 166/200\n",
            " - 0s - loss: 0.2006 - acc: 1.0000\n",
            "Epoch 167/200\n",
            " - 0s - loss: 0.1962 - acc: 1.0000\n",
            "Epoch 168/200\n",
            " - 0s - loss: 0.1919 - acc: 1.0000\n",
            "Epoch 169/200\n",
            " - 0s - loss: 0.1878 - acc: 1.0000\n",
            "Epoch 170/200\n",
            " - 0s - loss: 0.1837 - acc: 1.0000\n",
            "Epoch 171/200\n",
            " - 0s - loss: 0.1798 - acc: 1.0000\n",
            "Epoch 172/200\n",
            " - 0s - loss: 0.1759 - acc: 1.0000\n",
            "Epoch 173/200\n",
            " - 0s - loss: 0.1721 - acc: 1.0000\n",
            "Epoch 174/200\n",
            " - 0s - loss: 0.1685 - acc: 1.0000\n",
            "Epoch 175/200\n",
            " - 0s - loss: 0.1649 - acc: 1.0000\n",
            "Epoch 176/200\n",
            " - 0s - loss: 0.1614 - acc: 1.0000\n",
            "Epoch 177/200\n",
            " - 0s - loss: 0.1580 - acc: 1.0000\n",
            "Epoch 178/200\n",
            " - 0s - loss: 0.1547 - acc: 1.0000\n",
            "Epoch 179/200\n",
            " - 0s - loss: 0.1515 - acc: 1.0000\n",
            "Epoch 180/200\n",
            " - 0s - loss: 0.1483 - acc: 1.0000\n",
            "Epoch 181/200\n",
            " - 0s - loss: 0.1453 - acc: 1.0000\n",
            "Epoch 182/200\n",
            " - 0s - loss: 0.1423 - acc: 1.0000\n",
            "Epoch 183/200\n",
            " - 0s - loss: 0.1393 - acc: 1.0000\n",
            "Epoch 184/200\n",
            " - 0s - loss: 0.1365 - acc: 1.0000\n",
            "Epoch 185/200\n",
            " - 0s - loss: 0.1337 - acc: 1.0000\n",
            "Epoch 186/200\n",
            " - 0s - loss: 0.1310 - acc: 1.0000\n",
            "Epoch 187/200\n",
            " - 0s - loss: 0.1284 - acc: 1.0000\n",
            "Epoch 188/200\n",
            " - 0s - loss: 0.1258 - acc: 1.0000\n",
            "Epoch 189/200\n",
            " - 0s - loss: 0.1233 - acc: 1.0000\n",
            "Epoch 190/200\n",
            " - 0s - loss: 0.1209 - acc: 1.0000\n",
            "Epoch 191/200\n",
            " - 0s - loss: 0.1185 - acc: 1.0000\n",
            "Epoch 192/200\n",
            " - 0s - loss: 0.1162 - acc: 1.0000\n",
            "Epoch 193/200\n",
            " - 0s - loss: 0.1139 - acc: 1.0000\n",
            "Epoch 194/200\n",
            " - 0s - loss: 0.1117 - acc: 1.0000\n",
            "Epoch 195/200\n",
            " - 0s - loss: 0.1095 - acc: 1.0000\n",
            "Epoch 196/200\n",
            " - 0s - loss: 0.1074 - acc: 1.0000\n",
            "Epoch 197/200\n",
            " - 0s - loss: 0.1054 - acc: 1.0000\n",
            "Epoch 198/200\n",
            " - 0s - loss: 0.1034 - acc: 1.0000\n",
            "Epoch 199/200\n",
            " - 0s - loss: 0.1014 - acc: 1.0000\n",
            "Epoch 200/200\n",
            " - 0s - loss: 0.0995 - acc: 1.0000\n"
          ],
          "name": "stdout"
        },
        {
          "output_type": "execute_result",
          "data": {
            "text/plain": [
              "<keras.callbacks.History at 0x7fc3aa294c88>"
            ]
          },
          "metadata": {
            "tags": []
          },
          "execution_count": 45
        }
      ]
    },
    {
      "cell_type": "code",
      "metadata": {
        "id": "636znGHBV2S6",
        "colab_type": "code",
        "colab": {}
      },
      "source": [
        "def sentence_generation(model, t, current_word, n): # 모델, 토크나이저, 현재 단어, 반복할 횟수\n",
        "    init_word = current_word # 처음 들어온 단어도 마지막에 같이 출력하기위해 저장\n",
        "    sentence = ''\n",
        "    for _ in range(n): # n번 반복\n",
        "        encoded = t.texts_to_sequences([current_word])[0] # 현재 단어에 대한 정수 인코딩\n",
        "        encoded = pad_sequences([encoded], maxlen=5, padding='pre') # 데이터에 대한 패딩\n",
        "        result = model.predict_classes(encoded, verbose=0)\n",
        "    # 입력한 X(현재 단어)에 대해서 Y를 예측하고 Y(예측한 단어)를 result에 저장.\n",
        "        for word, index in t.word_index.items(): \n",
        "            if index == result: # 만약 예측한 단어와 인덱스와 동일한 단어가 있다면\n",
        "                break # 해당 단어가 예측 단어이므로 break\n",
        "        current_word = current_word + ' '  + word # 현재 단어 + ' ' + 예측 단어를 현재 단어로 변경\n",
        "        sentence = sentence + ' ' + word # 예측 단어를 문장에 저장\n",
        "    # for문이므로 이 행동을 다시 반복\n",
        "    sentence = init_word + sentence\n",
        "    return sentence"
      ],
      "execution_count": 0,
      "outputs": []
    },
    {
      "cell_type": "code",
      "metadata": {
        "id": "OMhrANJqWEaZ",
        "colab_type": "code",
        "colab": {
          "base_uri": "https://localhost:8080/",
          "height": 34
        },
        "outputId": "3f9d215a-1c69-4635-df71-8ea5e61c27cd"
      },
      "source": [
        "print(sentence_generation(model, t, '경마장에', 4))\n",
        "# '경마장에' 라는 단어 뒤에는 총 4개의 단어가 있으므로 4번 예측"
      ],
      "execution_count": 48,
      "outputs": [
        {
          "output_type": "stream",
          "text": [
            "말이 말이 법이다 말이 법이다\n"
          ],
          "name": "stdout"
        }
      ]
    },
    {
      "cell_type": "code",
      "metadata": {
        "id": "98a3ngbqWQMH",
        "colab_type": "code",
        "colab": {
          "base_uri": "https://localhost:8080/",
          "height": 34
        },
        "outputId": "553e120e-8a22-45e4-cac9-9db22e2af92f"
      },
      "source": [
        "print(sentence_generation(model, t, '그의', 2)) # 2번 예측"
      ],
      "execution_count": 49,
      "outputs": [
        {
          "output_type": "stream",
          "text": [
            "그의 말이 법이다\n"
          ],
          "name": "stdout"
        }
      ]
    },
    {
      "cell_type": "code",
      "metadata": {
        "id": "qBLCdneVWeef",
        "colab_type": "code",
        "colab": {}
      },
      "source": [
        ""
      ],
      "execution_count": 0,
      "outputs": []
    }
  ]
}